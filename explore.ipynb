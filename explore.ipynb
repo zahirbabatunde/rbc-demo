{
 "cells": [
  {
   "cell_type": "code",
   "execution_count": 2,
   "metadata": {},
   "outputs": [],
   "source": [
    "import requests\n",
    "import json\n",
    "import re\n",
    "import pdfkit\n",
    "import json\n",
    "import sys\n",
    "import time\n",
    "import pandas as pd\n",
    "from user_agent import generate_user_agent\n",
    "from sentence_transformers import SentenceTransformer, CrossEncoder, util\n",
    "from tqdm import tqdm\n",
    "tqdm.pandas()"
   ]
  },
  {
   "cell_type": "code",
   "execution_count": 2,
   "metadata": {},
   "outputs": [
    {
     "data": {
      "text/html": [
       "<div>\n",
       "<style scoped>\n",
       "    .dataframe tbody tr th:only-of-type {\n",
       "        vertical-align: middle;\n",
       "    }\n",
       "\n",
       "    .dataframe tbody tr th {\n",
       "        vertical-align: top;\n",
       "    }\n",
       "\n",
       "    .dataframe thead th {\n",
       "        text-align: right;\n",
       "    }\n",
       "</style>\n",
       "<table border=\"1\" class=\"dataframe\">\n",
       "  <thead>\n",
       "    <tr style=\"text-align: right;\">\n",
       "      <th></th>\n",
       "      <th>ticker</th>\n",
       "      <th>filing_date</th>\n",
       "      <th>section</th>\n",
       "      <th>year_of_filing</th>\n",
       "      <th>company_name</th>\n",
       "      <th>context</th>\n",
       "      <th>embedding</th>\n",
       "    </tr>\n",
       "  </thead>\n",
       "  <tbody>\n",
       "    <tr>\n",
       "      <th>0</th>\n",
       "      <td>AMZN</td>\n",
       "      <td>2010-01-29</td>\n",
       "      <td>Business</td>\n",
       "      <td>2010</td>\n",
       "      <td>AMAZON COM INC</td>\n",
       "      <td>Company: AMAZON COM INC (AMZN)\\nThis Annual Re...</td>\n",
       "      <td>[0.064206064, -0.54433095, -0.36170813, 0.0565...</td>\n",
       "    </tr>\n",
       "    <tr>\n",
       "      <th>1</th>\n",
       "      <td>AMZN</td>\n",
       "      <td>2010-01-29</td>\n",
       "      <td>Business</td>\n",
       "      <td>2010</td>\n",
       "      <td>AMAZON COM INC</td>\n",
       "      <td>Company: AMAZON COM INC (AMZN)\\nWe completed o...</td>\n",
       "      <td>[0.19773945, -0.6633003, -0.32106644, -0.04229...</td>\n",
       "    </tr>\n",
       "    <tr>\n",
       "      <th>2</th>\n",
       "      <td>AMZN</td>\n",
       "      <td>2010-01-29</td>\n",
       "      <td>Business</td>\n",
       "      <td>2010</td>\n",
       "      <td>AMAZON COM INC</td>\n",
       "      <td>Company: AMAZON COM INC (AMZN)\\nWe have organi...</td>\n",
       "      <td>[0.18689841, -0.24920216, -0.38556015, 0.06467...</td>\n",
       "    </tr>\n",
       "    <tr>\n",
       "      <th>3</th>\n",
       "      <td>AMZN</td>\n",
       "      <td>2010-01-29</td>\n",
       "      <td>Business</td>\n",
       "      <td>2010</td>\n",
       "      <td>AMAZON COM INC</td>\n",
       "      <td>Company: AMAZON COM INC (AMZN)\\nWe also manufa...</td>\n",
       "      <td>[0.14794555, -0.4436285, -0.34766313, 0.061945...</td>\n",
       "    </tr>\n",
       "    <tr>\n",
       "      <th>4</th>\n",
       "      <td>AMZN</td>\n",
       "      <td>2010-01-29</td>\n",
       "      <td>Business</td>\n",
       "      <td>2010</td>\n",
       "      <td>AMAZON COM INC</td>\n",
       "      <td>Company: AMAZON COM INC (AMZN)\\nWe operate cus...</td>\n",
       "      <td>[0.06934562, -0.21145937, -0.36523664, 0.01908...</td>\n",
       "    </tr>\n",
       "  </tbody>\n",
       "</table>\n",
       "</div>"
      ],
      "text/plain": [
       "  ticker filing_date   section  year_of_filing    company_name  \\\n",
       "0   AMZN  2010-01-29  Business            2010  AMAZON COM INC   \n",
       "1   AMZN  2010-01-29  Business            2010  AMAZON COM INC   \n",
       "2   AMZN  2010-01-29  Business            2010  AMAZON COM INC   \n",
       "3   AMZN  2010-01-29  Business            2010  AMAZON COM INC   \n",
       "4   AMZN  2010-01-29  Business            2010  AMAZON COM INC   \n",
       "\n",
       "                                             context  \\\n",
       "0  Company: AMAZON COM INC (AMZN)\\nThis Annual Re...   \n",
       "1  Company: AMAZON COM INC (AMZN)\\nWe completed o...   \n",
       "2  Company: AMAZON COM INC (AMZN)\\nWe have organi...   \n",
       "3  Company: AMAZON COM INC (AMZN)\\nWe also manufa...   \n",
       "4  Company: AMAZON COM INC (AMZN)\\nWe operate cus...   \n",
       "\n",
       "                                           embedding  \n",
       "0  [0.064206064, -0.54433095, -0.36170813, 0.0565...  \n",
       "1  [0.19773945, -0.6633003, -0.32106644, -0.04229...  \n",
       "2  [0.18689841, -0.24920216, -0.38556015, 0.06467...  \n",
       "3  [0.14794555, -0.4436285, -0.34766313, 0.061945...  \n",
       "4  [0.06934562, -0.21145937, -0.36523664, 0.01908...  "
      ]
     },
     "execution_count": 2,
     "metadata": {},
     "output_type": "execute_result"
    }
   ],
   "source": [
    "import pandas as pd\n",
    "df = pd.read_parquet('data_with_embedding_v1.parquet')\n",
    "df.head()"
   ]
  },
  {
   "cell_type": "code",
   "execution_count": 3,
   "metadata": {},
   "outputs": [
    {
     "data": {
      "text/html": [
       "<div>\n",
       "<style scoped>\n",
       "    .dataframe tbody tr th:only-of-type {\n",
       "        vertical-align: middle;\n",
       "    }\n",
       "\n",
       "    .dataframe tbody tr th {\n",
       "        vertical-align: top;\n",
       "    }\n",
       "\n",
       "    .dataframe thead th {\n",
       "        text-align: right;\n",
       "    }\n",
       "</style>\n",
       "<table border=\"1\" class=\"dataframe\">\n",
       "  <thead>\n",
       "    <tr style=\"text-align: right;\">\n",
       "      <th></th>\n",
       "      <th>ticker</th>\n",
       "      <th>filing_date</th>\n",
       "      <th>section</th>\n",
       "      <th>year_of_filing</th>\n",
       "      <th>company_name</th>\n",
       "      <th>context</th>\n",
       "      <th>embedding</th>\n",
       "    </tr>\n",
       "  </thead>\n",
       "  <tbody>\n",
       "    <tr>\n",
       "      <th>19198</th>\n",
       "      <td>NFLX</td>\n",
       "      <td>2020-01-29</td>\n",
       "      <td>Exhibits, Financial Statement Schedules</td>\n",
       "      <td>2020</td>\n",
       "      <td>Netflix Inc</td>\n",
       "      <td>Company: Netflix Inc (NFLX)\\nAmendment of Prov...</td>\n",
       "      <td>[0.30167565, -0.035140604, -0.27240697, -0.065...</td>\n",
       "    </tr>\n",
       "    <tr>\n",
       "      <th>19199</th>\n",
       "      <td>NFLX</td>\n",
       "      <td>2020-01-29</td>\n",
       "      <td>Exhibits, Financial Statement Schedules</td>\n",
       "      <td>2020</td>\n",
       "      <td>Netflix Inc</td>\n",
       "      <td>Company: Netflix Inc (NFLX)\\nThe Netherlands N...</td>\n",
       "      <td>[0.11987999, -0.12105454, -0.33098242, -0.1603...</td>\n",
       "    </tr>\n",
       "    <tr>\n",
       "      <th>19200</th>\n",
       "      <td>NFLX</td>\n",
       "      <td>2020-01-29</td>\n",
       "      <td>Exhibits, Financial Statement Schedules</td>\n",
       "      <td>2020</td>\n",
       "      <td>Netflix Inc</td>\n",
       "      <td>Company: Netflix Inc (NFLX)\\nDated: January 29...</td>\n",
       "      <td>[0.118319005, 0.09442451, -0.39825603, -0.1186...</td>\n",
       "    </tr>\n",
       "    <tr>\n",
       "      <th>19201</th>\n",
       "      <td>NFLX</td>\n",
       "      <td>2021-01-28</td>\n",
       "      <td>Exhibits, Financial Statement Schedules</td>\n",
       "      <td>2021</td>\n",
       "      <td>Netflix Inc</td>\n",
       "      <td>Company: Netflix Inc (NFLX)\\n(a)The following ...</td>\n",
       "      <td>[0.14638504, -0.06706725, -0.40826216, -0.0354...</td>\n",
       "    </tr>\n",
       "    <tr>\n",
       "      <th>19202</th>\n",
       "      <td>NFLX</td>\n",
       "      <td>2022-01-27</td>\n",
       "      <td>Exhibits, Financial Statement Schedules</td>\n",
       "      <td>2022</td>\n",
       "      <td>Netflix Inc</td>\n",
       "      <td>Company: Netflix Inc (NFLX)\\n(a)The following ...</td>\n",
       "      <td>[0.14638504, -0.06706725, -0.40826216, -0.0354...</td>\n",
       "    </tr>\n",
       "  </tbody>\n",
       "</table>\n",
       "</div>"
      ],
      "text/plain": [
       "      ticker filing_date                                  section  \\\n",
       "19198   NFLX  2020-01-29  Exhibits, Financial Statement Schedules   \n",
       "19199   NFLX  2020-01-29  Exhibits, Financial Statement Schedules   \n",
       "19200   NFLX  2020-01-29  Exhibits, Financial Statement Schedules   \n",
       "19201   NFLX  2021-01-28  Exhibits, Financial Statement Schedules   \n",
       "19202   NFLX  2022-01-27  Exhibits, Financial Statement Schedules   \n",
       "\n",
       "       year_of_filing company_name  \\\n",
       "19198            2020  Netflix Inc   \n",
       "19199            2020  Netflix Inc   \n",
       "19200            2020  Netflix Inc   \n",
       "19201            2021  Netflix Inc   \n",
       "19202            2022  Netflix Inc   \n",
       "\n",
       "                                                 context  \\\n",
       "19198  Company: Netflix Inc (NFLX)\\nAmendment of Prov...   \n",
       "19199  Company: Netflix Inc (NFLX)\\nThe Netherlands N...   \n",
       "19200  Company: Netflix Inc (NFLX)\\nDated: January 29...   \n",
       "19201  Company: Netflix Inc (NFLX)\\n(a)The following ...   \n",
       "19202  Company: Netflix Inc (NFLX)\\n(a)The following ...   \n",
       "\n",
       "                                               embedding  \n",
       "19198  [0.30167565, -0.035140604, -0.27240697, -0.065...  \n",
       "19199  [0.11987999, -0.12105454, -0.33098242, -0.1603...  \n",
       "19200  [0.118319005, 0.09442451, -0.39825603, -0.1186...  \n",
       "19201  [0.14638504, -0.06706725, -0.40826216, -0.0354...  \n",
       "19202  [0.14638504, -0.06706725, -0.40826216, -0.0354...  "
      ]
     },
     "execution_count": 3,
     "metadata": {},
     "output_type": "execute_result"
    }
   ],
   "source": [
    "df.tail()"
   ]
  },
  {
   "cell_type": "code",
   "execution_count": 39,
   "metadata": {},
   "outputs": [],
   "source": [
    "def get_filing_id(content):\n",
    "    # Generate a user agent string for Chrome\n",
    "    user_agent = generate_user_agent(navigator='chrome')\n",
    "\n",
    "    lookup_headers = {\n",
    "        \"referer\": \"https://sec-api.io\",\n",
    "        \"user-agent\": user_agent\n",
    "    }\n",
    "\n",
    "    # content['ticker'] = \"NFLX\"\n",
    "    # date = 2022\n",
    "    file_link = str()\n",
    "    company_name = str()\n",
    "    company_ticker = str()\n",
    "    filing_id = str()\n",
    "    data = {\n",
    "            \"query\": {\"query_string\": {\n",
    "                                        \"query\": \"formType:\\\"10-K\\\" AND ticker:(\" + content['ticker'] + \") AND filedAt:[\" + str(\n",
    "                                        content['year_of_filing']) + \"-01-01 TO \" + str(content['year_of_filing']+1) + \"-01-01] AND documentFormatFiles.type:*21*\"\n",
    "                                        }\n",
    "                    }, \"sort\": [{\n",
    "                                    \"filedAt\": {\"order\": \"desc\"}\n",
    "                                    }]}\n",
    "\n",
    "    try:\n",
    "        print(content['ticker'] + str(content['year_of_filing']))\n",
    "        response = requests.post(\n",
    "            \"https://api.sec-api.io/\", headers=lookup_headers, json=data, timeout=20)\n",
    "        time.sleep(1)\n",
    "    except requests.exceptions.Timeout:\n",
    "        print('The request timed out')\n",
    "\n",
    "    if response.status_code == 200:\n",
    "        parsed_json = json.loads(response.text)\n",
    "        hits = parsed_json['total']['value']\n",
    "        if hits > 0:\n",
    "            company_name = parsed_json['filings'][0]['companyName']\n",
    "            company_ticker = parsed_json['filings'][0]['ticker']\n",
    "            examine_link = parsed_json['filings'][0]['linkToFilingDetails']\n",
    "            filing_id = parsed_json['filings'][0]['id']\n",
    "            if examine_link.find('ix?doc=/') != -1:\n",
    "                file_link = examine_link.replace('ix?doc=/', '')\n",
    "            else:\n",
    "                file_link = examine_link\n",
    "        else:\n",
    "            print('No hits')\n",
    "    else:\n",
    "        print(response.status_code)\n",
    "    return filing_id"
   ]
  },
  {
   "cell_type": "code",
   "execution_count": 40,
   "metadata": {},
   "outputs": [
    {
     "data": {
      "text/html": [
       "<div>\n",
       "<style scoped>\n",
       "    .dataframe tbody tr th:only-of-type {\n",
       "        vertical-align: middle;\n",
       "    }\n",
       "\n",
       "    .dataframe tbody tr th {\n",
       "        vertical-align: top;\n",
       "    }\n",
       "\n",
       "    .dataframe thead th {\n",
       "        text-align: right;\n",
       "    }\n",
       "</style>\n",
       "<table border=\"1\" class=\"dataframe\">\n",
       "  <thead>\n",
       "    <tr style=\"text-align: right;\">\n",
       "      <th></th>\n",
       "      <th>ticker</th>\n",
       "      <th>year_of_filing</th>\n",
       "    </tr>\n",
       "  </thead>\n",
       "  <tbody>\n",
       "    <tr>\n",
       "      <th>0</th>\n",
       "      <td>AMZN</td>\n",
       "      <td>2010</td>\n",
       "    </tr>\n",
       "    <tr>\n",
       "      <th>1</th>\n",
       "      <td>AMZN</td>\n",
       "      <td>2011</td>\n",
       "    </tr>\n",
       "    <tr>\n",
       "      <th>2</th>\n",
       "      <td>AMZN</td>\n",
       "      <td>2012</td>\n",
       "    </tr>\n",
       "    <tr>\n",
       "      <th>3</th>\n",
       "      <td>AMZN</td>\n",
       "      <td>2013</td>\n",
       "    </tr>\n",
       "    <tr>\n",
       "      <th>4</th>\n",
       "      <td>AMZN</td>\n",
       "      <td>2014</td>\n",
       "    </tr>\n",
       "  </tbody>\n",
       "</table>\n",
       "</div>"
      ],
      "text/plain": [
       "  ticker  year_of_filing\n",
       "0   AMZN            2010\n",
       "1   AMZN            2011\n",
       "2   AMZN            2012\n",
       "3   AMZN            2013\n",
       "4   AMZN            2014"
      ]
     },
     "execution_count": 40,
     "metadata": {},
     "output_type": "execute_result"
    }
   ],
   "source": [
    "new_df = df.loc[:, ['ticker', 'year_of_filing']].drop_duplicates().reset_index(drop=True).copy()\n",
    "new_df.head()"
   ]
  },
  {
   "cell_type": "code",
   "execution_count": 41,
   "metadata": {},
   "outputs": [
    {
     "name": "stderr",
     "output_type": "stream",
     "text": [
      "  0%|          | 0/69 [00:00<?, ?it/s]"
     ]
    },
    {
     "name": "stdout",
     "output_type": "stream",
     "text": [
      "AMZN2010\n"
     ]
    },
    {
     "name": "stderr",
     "output_type": "stream",
     "text": [
      "  3%|▎         | 2/69 [00:01<00:42,  1.59it/s]"
     ]
    },
    {
     "name": "stdout",
     "output_type": "stream",
     "text": [
      "AMZN2011\n"
     ]
    },
    {
     "name": "stderr",
     "output_type": "stream",
     "text": [
      "  4%|▍         | 3/69 [00:02<00:57,  1.14it/s]"
     ]
    },
    {
     "name": "stdout",
     "output_type": "stream",
     "text": [
      "AMZN2012\n"
     ]
    },
    {
     "name": "stderr",
     "output_type": "stream",
     "text": [
      "  6%|▌         | 4/69 [00:03<01:06,  1.02s/it]"
     ]
    },
    {
     "name": "stdout",
     "output_type": "stream",
     "text": [
      "AMZN2013\n"
     ]
    },
    {
     "name": "stderr",
     "output_type": "stream",
     "text": [
      "  7%|▋         | 5/69 [00:05<01:10,  1.11s/it]"
     ]
    },
    {
     "name": "stdout",
     "output_type": "stream",
     "text": [
      "AMZN2014\n"
     ]
    },
    {
     "name": "stderr",
     "output_type": "stream",
     "text": [
      "  9%|▊         | 6/69 [00:06<01:11,  1.14s/it]"
     ]
    },
    {
     "name": "stdout",
     "output_type": "stream",
     "text": [
      "AMZN2015\n"
     ]
    },
    {
     "name": "stderr",
     "output_type": "stream",
     "text": [
      " 10%|█         | 7/69 [00:07<01:11,  1.16s/it]"
     ]
    },
    {
     "name": "stdout",
     "output_type": "stream",
     "text": [
      "AMZN2016\n"
     ]
    },
    {
     "name": "stderr",
     "output_type": "stream",
     "text": [
      " 12%|█▏        | 8/69 [00:08<01:11,  1.18s/it]"
     ]
    },
    {
     "name": "stdout",
     "output_type": "stream",
     "text": [
      "AMZN2017\n"
     ]
    },
    {
     "name": "stderr",
     "output_type": "stream",
     "text": [
      " 13%|█▎        | 9/69 [00:09<01:11,  1.19s/it]"
     ]
    },
    {
     "name": "stdout",
     "output_type": "stream",
     "text": [
      "AMZN2018\n"
     ]
    },
    {
     "name": "stderr",
     "output_type": "stream",
     "text": [
      " 14%|█▍        | 10/69 [00:11<01:10,  1.19s/it]"
     ]
    },
    {
     "name": "stdout",
     "output_type": "stream",
     "text": [
      "AMZN2019\n"
     ]
    },
    {
     "name": "stderr",
     "output_type": "stream",
     "text": [
      " 16%|█▌        | 11/69 [00:12<01:10,  1.21s/it]"
     ]
    },
    {
     "name": "stdout",
     "output_type": "stream",
     "text": [
      "AMZN2020\n"
     ]
    },
    {
     "name": "stderr",
     "output_type": "stream",
     "text": [
      " 17%|█▋        | 12/69 [00:13<01:08,  1.21s/it]"
     ]
    },
    {
     "name": "stdout",
     "output_type": "stream",
     "text": [
      "AMZN2021\n"
     ]
    },
    {
     "name": "stderr",
     "output_type": "stream",
     "text": [
      " 19%|█▉        | 13/69 [00:14<01:07,  1.21s/it]"
     ]
    },
    {
     "name": "stdout",
     "output_type": "stream",
     "text": [
      "AMZN2022\n"
     ]
    },
    {
     "name": "stderr",
     "output_type": "stream",
     "text": [
      " 20%|██        | 14/69 [00:15<01:06,  1.20s/it]"
     ]
    },
    {
     "name": "stdout",
     "output_type": "stream",
     "text": [
      "GOOG2016\n"
     ]
    },
    {
     "name": "stderr",
     "output_type": "stream",
     "text": [
      " 22%|██▏       | 15/69 [00:17<01:05,  1.21s/it]"
     ]
    },
    {
     "name": "stdout",
     "output_type": "stream",
     "text": [
      "GOOG2017\n"
     ]
    },
    {
     "name": "stderr",
     "output_type": "stream",
     "text": [
      " 23%|██▎       | 16/69 [00:18<01:04,  1.22s/it]"
     ]
    },
    {
     "name": "stdout",
     "output_type": "stream",
     "text": [
      "GOOG2018\n"
     ]
    },
    {
     "name": "stderr",
     "output_type": "stream",
     "text": [
      " 25%|██▍       | 17/69 [00:19<01:03,  1.22s/it]"
     ]
    },
    {
     "name": "stdout",
     "output_type": "stream",
     "text": [
      "GOOG2019\n"
     ]
    },
    {
     "name": "stderr",
     "output_type": "stream",
     "text": [
      " 26%|██▌       | 18/69 [00:20<01:02,  1.22s/it]"
     ]
    },
    {
     "name": "stdout",
     "output_type": "stream",
     "text": [
      "GOOG2020\n"
     ]
    },
    {
     "name": "stderr",
     "output_type": "stream",
     "text": [
      " 28%|██▊       | 19/69 [00:22<01:01,  1.22s/it]"
     ]
    },
    {
     "name": "stdout",
     "output_type": "stream",
     "text": [
      "GOOG2021\n"
     ]
    },
    {
     "name": "stderr",
     "output_type": "stream",
     "text": [
      " 29%|██▉       | 20/69 [00:23<00:59,  1.21s/it]"
     ]
    },
    {
     "name": "stdout",
     "output_type": "stream",
     "text": [
      "No hits\n",
      "GOOG2022\n"
     ]
    },
    {
     "name": "stderr",
     "output_type": "stream",
     "text": [
      " 30%|███       | 21/69 [00:24<00:59,  1.23s/it]"
     ]
    },
    {
     "name": "stdout",
     "output_type": "stream",
     "text": [
      "META2013\n"
     ]
    },
    {
     "name": "stderr",
     "output_type": "stream",
     "text": [
      " 32%|███▏      | 22/69 [00:25<00:57,  1.22s/it]"
     ]
    },
    {
     "name": "stdout",
     "output_type": "stream",
     "text": [
      "META2014\n"
     ]
    },
    {
     "name": "stderr",
     "output_type": "stream",
     "text": [
      " 33%|███▎      | 23/69 [00:26<00:56,  1.22s/it]"
     ]
    },
    {
     "name": "stdout",
     "output_type": "stream",
     "text": [
      "META2015\n"
     ]
    },
    {
     "name": "stderr",
     "output_type": "stream",
     "text": [
      " 35%|███▍      | 24/69 [00:28<00:55,  1.23s/it]"
     ]
    },
    {
     "name": "stdout",
     "output_type": "stream",
     "text": [
      "META2016\n"
     ]
    },
    {
     "name": "stderr",
     "output_type": "stream",
     "text": [
      " 36%|███▌      | 25/69 [00:29<00:53,  1.22s/it]"
     ]
    },
    {
     "name": "stdout",
     "output_type": "stream",
     "text": [
      "META2017\n"
     ]
    },
    {
     "name": "stderr",
     "output_type": "stream",
     "text": [
      " 38%|███▊      | 26/69 [00:30<00:52,  1.21s/it]"
     ]
    },
    {
     "name": "stdout",
     "output_type": "stream",
     "text": [
      "META2018\n"
     ]
    },
    {
     "name": "stderr",
     "output_type": "stream",
     "text": [
      " 39%|███▉      | 27/69 [00:31<00:50,  1.21s/it]"
     ]
    },
    {
     "name": "stdout",
     "output_type": "stream",
     "text": [
      "META2019\n"
     ]
    },
    {
     "name": "stderr",
     "output_type": "stream",
     "text": [
      " 41%|████      | 28/69 [00:32<00:49,  1.21s/it]"
     ]
    },
    {
     "name": "stdout",
     "output_type": "stream",
     "text": [
      "META2020\n"
     ]
    },
    {
     "name": "stderr",
     "output_type": "stream",
     "text": [
      " 42%|████▏     | 29/69 [00:34<00:48,  1.21s/it]"
     ]
    },
    {
     "name": "stdout",
     "output_type": "stream",
     "text": [
      "META2021\n"
     ]
    },
    {
     "name": "stderr",
     "output_type": "stream",
     "text": [
      " 43%|████▎     | 30/69 [00:35<00:47,  1.21s/it]"
     ]
    },
    {
     "name": "stdout",
     "output_type": "stream",
     "text": [
      "META2022\n"
     ]
    },
    {
     "name": "stderr",
     "output_type": "stream",
     "text": [
      " 45%|████▍     | 31/69 [00:36<00:49,  1.29s/it]"
     ]
    },
    {
     "name": "stdout",
     "output_type": "stream",
     "text": [
      "AAPL2010\n"
     ]
    },
    {
     "name": "stderr",
     "output_type": "stream",
     "text": [
      " 46%|████▋     | 32/69 [00:38<00:47,  1.27s/it]"
     ]
    },
    {
     "name": "stdout",
     "output_type": "stream",
     "text": [
      "AAPL2011\n"
     ]
    },
    {
     "name": "stderr",
     "output_type": "stream",
     "text": [
      " 48%|████▊     | 33/69 [00:39<00:45,  1.26s/it]"
     ]
    },
    {
     "name": "stdout",
     "output_type": "stream",
     "text": [
      "AAPL2012\n"
     ]
    },
    {
     "name": "stderr",
     "output_type": "stream",
     "text": [
      " 49%|████▉     | 34/69 [00:40<00:43,  1.25s/it]"
     ]
    },
    {
     "name": "stdout",
     "output_type": "stream",
     "text": [
      "AAPL2013\n"
     ]
    },
    {
     "name": "stderr",
     "output_type": "stream",
     "text": [
      " 51%|█████     | 35/69 [00:41<00:42,  1.25s/it]"
     ]
    },
    {
     "name": "stdout",
     "output_type": "stream",
     "text": [
      "AAPL2014\n"
     ]
    },
    {
     "name": "stderr",
     "output_type": "stream",
     "text": [
      " 52%|█████▏    | 36/69 [00:43<00:40,  1.23s/it]"
     ]
    },
    {
     "name": "stdout",
     "output_type": "stream",
     "text": [
      "AAPL2015\n"
     ]
    },
    {
     "name": "stderr",
     "output_type": "stream",
     "text": [
      " 54%|█████▎    | 37/69 [00:44<00:39,  1.23s/it]"
     ]
    },
    {
     "name": "stdout",
     "output_type": "stream",
     "text": [
      "AAPL2016\n"
     ]
    },
    {
     "name": "stderr",
     "output_type": "stream",
     "text": [
      " 55%|█████▌    | 38/69 [00:45<00:37,  1.22s/it]"
     ]
    },
    {
     "name": "stdout",
     "output_type": "stream",
     "text": [
      "AAPL2017\n"
     ]
    },
    {
     "name": "stderr",
     "output_type": "stream",
     "text": [
      " 57%|█████▋    | 39/69 [00:46<00:36,  1.22s/it]"
     ]
    },
    {
     "name": "stdout",
     "output_type": "stream",
     "text": [
      "AAPL2018\n"
     ]
    },
    {
     "name": "stderr",
     "output_type": "stream",
     "text": [
      " 58%|█████▊    | 40/69 [00:47<00:35,  1.21s/it]"
     ]
    },
    {
     "name": "stdout",
     "output_type": "stream",
     "text": [
      "AAPL2019\n"
     ]
    },
    {
     "name": "stderr",
     "output_type": "stream",
     "text": [
      " 59%|█████▉    | 41/69 [00:49<00:34,  1.22s/it]"
     ]
    },
    {
     "name": "stdout",
     "output_type": "stream",
     "text": [
      "AAPL2020\n"
     ]
    },
    {
     "name": "stderr",
     "output_type": "stream",
     "text": [
      " 61%|██████    | 42/69 [00:50<00:32,  1.22s/it]"
     ]
    },
    {
     "name": "stdout",
     "output_type": "stream",
     "text": [
      "AAPL2021\n"
     ]
    },
    {
     "name": "stderr",
     "output_type": "stream",
     "text": [
      " 62%|██████▏   | 43/69 [00:51<00:31,  1.21s/it]"
     ]
    },
    {
     "name": "stdout",
     "output_type": "stream",
     "text": [
      "AAPL2022\n"
     ]
    },
    {
     "name": "stderr",
     "output_type": "stream",
     "text": [
      " 64%|██████▍   | 44/69 [00:52<00:30,  1.21s/it]"
     ]
    },
    {
     "name": "stdout",
     "output_type": "stream",
     "text": [
      "MSFT2010\n"
     ]
    },
    {
     "name": "stderr",
     "output_type": "stream",
     "text": [
      " 65%|██████▌   | 45/69 [00:53<00:29,  1.22s/it]"
     ]
    },
    {
     "name": "stdout",
     "output_type": "stream",
     "text": [
      "MSFT2011\n"
     ]
    },
    {
     "name": "stderr",
     "output_type": "stream",
     "text": [
      " 67%|██████▋   | 46/69 [00:55<00:27,  1.21s/it]"
     ]
    },
    {
     "name": "stdout",
     "output_type": "stream",
     "text": [
      "MSFT2012\n"
     ]
    },
    {
     "name": "stderr",
     "output_type": "stream",
     "text": [
      " 68%|██████▊   | 47/69 [00:56<00:26,  1.21s/it]"
     ]
    },
    {
     "name": "stdout",
     "output_type": "stream",
     "text": [
      "MSFT2013\n"
     ]
    },
    {
     "name": "stderr",
     "output_type": "stream",
     "text": [
      " 70%|██████▉   | 48/69 [00:57<00:25,  1.22s/it]"
     ]
    },
    {
     "name": "stdout",
     "output_type": "stream",
     "text": [
      "MSFT2014\n"
     ]
    },
    {
     "name": "stderr",
     "output_type": "stream",
     "text": [
      " 71%|███████   | 49/69 [00:58<00:24,  1.22s/it]"
     ]
    },
    {
     "name": "stdout",
     "output_type": "stream",
     "text": [
      "MSFT2015\n"
     ]
    },
    {
     "name": "stderr",
     "output_type": "stream",
     "text": [
      " 72%|███████▏  | 50/69 [00:59<00:23,  1.21s/it]"
     ]
    },
    {
     "name": "stdout",
     "output_type": "stream",
     "text": [
      "MSFT2016\n"
     ]
    },
    {
     "name": "stderr",
     "output_type": "stream",
     "text": [
      " 74%|███████▍  | 51/69 [01:01<00:22,  1.24s/it]"
     ]
    },
    {
     "name": "stdout",
     "output_type": "stream",
     "text": [
      "MSFT2017\n"
     ]
    },
    {
     "name": "stderr",
     "output_type": "stream",
     "text": [
      " 75%|███████▌  | 52/69 [01:02<00:21,  1.24s/it]"
     ]
    },
    {
     "name": "stdout",
     "output_type": "stream",
     "text": [
      "MSFT2018\n"
     ]
    },
    {
     "name": "stderr",
     "output_type": "stream",
     "text": [
      " 77%|███████▋  | 53/69 [01:03<00:19,  1.25s/it]"
     ]
    },
    {
     "name": "stdout",
     "output_type": "stream",
     "text": [
      "MSFT2019\n"
     ]
    },
    {
     "name": "stderr",
     "output_type": "stream",
     "text": [
      " 78%|███████▊  | 54/69 [01:05<00:18,  1.24s/it]"
     ]
    },
    {
     "name": "stdout",
     "output_type": "stream",
     "text": [
      "MSFT2020\n"
     ]
    },
    {
     "name": "stderr",
     "output_type": "stream",
     "text": [
      " 80%|███████▉  | 55/69 [01:06<00:17,  1.23s/it]"
     ]
    },
    {
     "name": "stdout",
     "output_type": "stream",
     "text": [
      "MSFT2021\n"
     ]
    },
    {
     "name": "stderr",
     "output_type": "stream",
     "text": [
      " 81%|████████  | 56/69 [01:07<00:15,  1.23s/it]"
     ]
    },
    {
     "name": "stdout",
     "output_type": "stream",
     "text": [
      "MSFT2022\n"
     ]
    },
    {
     "name": "stderr",
     "output_type": "stream",
     "text": [
      " 83%|████████▎ | 57/69 [01:08<00:14,  1.23s/it]"
     ]
    },
    {
     "name": "stdout",
     "output_type": "stream",
     "text": [
      "NFLX2010\n"
     ]
    },
    {
     "name": "stderr",
     "output_type": "stream",
     "text": [
      " 84%|████████▍ | 58/69 [01:09<00:13,  1.23s/it]"
     ]
    },
    {
     "name": "stdout",
     "output_type": "stream",
     "text": [
      "No hits\n",
      "NFLX2011\n"
     ]
    },
    {
     "name": "stderr",
     "output_type": "stream",
     "text": [
      " 86%|████████▌ | 59/69 [01:11<00:12,  1.23s/it]"
     ]
    },
    {
     "name": "stdout",
     "output_type": "stream",
     "text": [
      "No hits\n",
      "NFLX2012\n"
     ]
    },
    {
     "name": "stderr",
     "output_type": "stream",
     "text": [
      " 87%|████████▋ | 60/69 [01:12<00:11,  1.22s/it]"
     ]
    },
    {
     "name": "stdout",
     "output_type": "stream",
     "text": [
      "No hits\n",
      "NFLX2013\n"
     ]
    },
    {
     "name": "stderr",
     "output_type": "stream",
     "text": [
      " 88%|████████▊ | 61/69 [01:13<00:09,  1.22s/it]"
     ]
    },
    {
     "name": "stdout",
     "output_type": "stream",
     "text": [
      "No hits\n",
      "NFLX2014\n"
     ]
    },
    {
     "name": "stderr",
     "output_type": "stream",
     "text": [
      " 90%|████████▉ | 62/69 [01:14<00:08,  1.22s/it]"
     ]
    },
    {
     "name": "stdout",
     "output_type": "stream",
     "text": [
      "NFLX2015\n"
     ]
    },
    {
     "name": "stderr",
     "output_type": "stream",
     "text": [
      " 91%|█████████▏| 63/69 [01:16<00:07,  1.22s/it]"
     ]
    },
    {
     "name": "stdout",
     "output_type": "stream",
     "text": [
      "NFLX2016\n"
     ]
    },
    {
     "name": "stderr",
     "output_type": "stream",
     "text": [
      " 93%|█████████▎| 64/69 [01:17<00:06,  1.23s/it]"
     ]
    },
    {
     "name": "stdout",
     "output_type": "stream",
     "text": [
      "NFLX2017\n"
     ]
    },
    {
     "name": "stderr",
     "output_type": "stream",
     "text": [
      " 94%|█████████▍| 65/69 [01:18<00:04,  1.22s/it]"
     ]
    },
    {
     "name": "stdout",
     "output_type": "stream",
     "text": [
      "NFLX2018\n"
     ]
    },
    {
     "name": "stderr",
     "output_type": "stream",
     "text": [
      " 96%|█████████▌| 66/69 [01:19<00:03,  1.22s/it]"
     ]
    },
    {
     "name": "stdout",
     "output_type": "stream",
     "text": [
      "NFLX2019\n"
     ]
    },
    {
     "name": "stderr",
     "output_type": "stream",
     "text": [
      " 97%|█████████▋| 67/69 [01:20<00:02,  1.22s/it]"
     ]
    },
    {
     "name": "stdout",
     "output_type": "stream",
     "text": [
      "NFLX2020\n"
     ]
    },
    {
     "name": "stderr",
     "output_type": "stream",
     "text": [
      " 99%|█████████▊| 68/69 [01:22<00:01,  1.21s/it]"
     ]
    },
    {
     "name": "stdout",
     "output_type": "stream",
     "text": [
      "NFLX2021\n"
     ]
    },
    {
     "name": "stderr",
     "output_type": "stream",
     "text": [
      "100%|██████████| 69/69 [01:23<00:00,  1.22s/it]"
     ]
    },
    {
     "name": "stdout",
     "output_type": "stream",
     "text": [
      "NFLX2022\n"
     ]
    },
    {
     "name": "stderr",
     "output_type": "stream",
     "text": [
      "100%|██████████| 69/69 [01:24<00:00,  1.23s/it]\n"
     ]
    }
   ],
   "source": [
    "new_df['filing_id'] = new_df.progress_apply(get_filing_id, axis=1)"
   ]
  },
  {
   "cell_type": "code",
   "execution_count": 42,
   "metadata": {},
   "outputs": [
    {
     "data": {
      "text/html": [
       "<div>\n",
       "<style scoped>\n",
       "    .dataframe tbody tr th:only-of-type {\n",
       "        vertical-align: middle;\n",
       "    }\n",
       "\n",
       "    .dataframe tbody tr th {\n",
       "        vertical-align: top;\n",
       "    }\n",
       "\n",
       "    .dataframe thead th {\n",
       "        text-align: right;\n",
       "    }\n",
       "</style>\n",
       "<table border=\"1\" class=\"dataframe\">\n",
       "  <thead>\n",
       "    <tr style=\"text-align: right;\">\n",
       "      <th></th>\n",
       "      <th>ticker</th>\n",
       "      <th>year_of_filing</th>\n",
       "      <th>filing_id</th>\n",
       "    </tr>\n",
       "  </thead>\n",
       "  <tbody>\n",
       "    <tr>\n",
       "      <th>18</th>\n",
       "      <td>GOOG</td>\n",
       "      <td>2021</td>\n",
       "      <td></td>\n",
       "    </tr>\n",
       "    <tr>\n",
       "      <th>56</th>\n",
       "      <td>NFLX</td>\n",
       "      <td>2010</td>\n",
       "      <td></td>\n",
       "    </tr>\n",
       "    <tr>\n",
       "      <th>57</th>\n",
       "      <td>NFLX</td>\n",
       "      <td>2011</td>\n",
       "      <td></td>\n",
       "    </tr>\n",
       "    <tr>\n",
       "      <th>58</th>\n",
       "      <td>NFLX</td>\n",
       "      <td>2012</td>\n",
       "      <td></td>\n",
       "    </tr>\n",
       "    <tr>\n",
       "      <th>59</th>\n",
       "      <td>NFLX</td>\n",
       "      <td>2013</td>\n",
       "      <td></td>\n",
       "    </tr>\n",
       "  </tbody>\n",
       "</table>\n",
       "</div>"
      ],
      "text/plain": [
       "   ticker  year_of_filing filing_id\n",
       "18   GOOG            2021          \n",
       "56   NFLX            2010          \n",
       "57   NFLX            2011          \n",
       "58   NFLX            2012          \n",
       "59   NFLX            2013          "
      ]
     },
     "execution_count": 42,
     "metadata": {},
     "output_type": "execute_result"
    }
   ],
   "source": [
    "new_df[new_df['filing_id'] == '']"
   ]
  },
  {
   "cell_type": "code",
   "execution_count": 46,
   "metadata": {},
   "outputs": [],
   "source": [
    "new_df.at[18, 'filing_id'] = 'e5b67aca9c746fbeb78a284c187c7efc'\n",
    "new_df.at[56, 'filing_id'] = 'ffa98849e10e1046fc26f9649baf6f94'\n",
    "new_df.at[57, 'filing_id'] = '606e270bc9cba63106fa3231f4ee31ae'\n",
    "new_df.at[58, 'filing_id'] = '213bb461b86e95f40ca7e182492d0e2c'\n",
    "new_df.at[59, 'filing_id'] = '73c550cbef01d1fba6a44ab484dff5db'"
   ]
  },
  {
   "cell_type": "code",
   "execution_count": 47,
   "metadata": {},
   "outputs": [
    {
     "data": {
      "text/html": [
       "<div>\n",
       "<style scoped>\n",
       "    .dataframe tbody tr th:only-of-type {\n",
       "        vertical-align: middle;\n",
       "    }\n",
       "\n",
       "    .dataframe tbody tr th {\n",
       "        vertical-align: top;\n",
       "    }\n",
       "\n",
       "    .dataframe thead th {\n",
       "        text-align: right;\n",
       "    }\n",
       "</style>\n",
       "<table border=\"1\" class=\"dataframe\">\n",
       "  <thead>\n",
       "    <tr style=\"text-align: right;\">\n",
       "      <th></th>\n",
       "      <th>ticker</th>\n",
       "      <th>year_of_filing</th>\n",
       "      <th>filing_id</th>\n",
       "    </tr>\n",
       "  </thead>\n",
       "  <tbody>\n",
       "    <tr>\n",
       "      <th>56</th>\n",
       "      <td>NFLX</td>\n",
       "      <td>2010</td>\n",
       "      <td>ffa98849e10e1046fc26f9649baf6f94</td>\n",
       "    </tr>\n",
       "    <tr>\n",
       "      <th>57</th>\n",
       "      <td>NFLX</td>\n",
       "      <td>2011</td>\n",
       "      <td>606e270bc9cba63106fa3231f4ee31ae</td>\n",
       "    </tr>\n",
       "    <tr>\n",
       "      <th>58</th>\n",
       "      <td>NFLX</td>\n",
       "      <td>2012</td>\n",
       "      <td>213bb461b86e95f40ca7e182492d0e2c</td>\n",
       "    </tr>\n",
       "    <tr>\n",
       "      <th>59</th>\n",
       "      <td>NFLX</td>\n",
       "      <td>2013</td>\n",
       "      <td>73c550cbef01d1fba6a44ab484dff5db</td>\n",
       "    </tr>\n",
       "    <tr>\n",
       "      <th>60</th>\n",
       "      <td>NFLX</td>\n",
       "      <td>2014</td>\n",
       "      <td>7408333d4398fb377a440fc797eb9157</td>\n",
       "    </tr>\n",
       "    <tr>\n",
       "      <th>61</th>\n",
       "      <td>NFLX</td>\n",
       "      <td>2015</td>\n",
       "      <td>ac0212ec39ad81c404d11124cda9e072</td>\n",
       "    </tr>\n",
       "    <tr>\n",
       "      <th>62</th>\n",
       "      <td>NFLX</td>\n",
       "      <td>2016</td>\n",
       "      <td>5a98d5a867cc632d4840fdc9f5933fe9</td>\n",
       "    </tr>\n",
       "    <tr>\n",
       "      <th>63</th>\n",
       "      <td>NFLX</td>\n",
       "      <td>2017</td>\n",
       "      <td>4a40ccf944d9aaee880a3652439d586e</td>\n",
       "    </tr>\n",
       "    <tr>\n",
       "      <th>64</th>\n",
       "      <td>NFLX</td>\n",
       "      <td>2018</td>\n",
       "      <td>87f7af12437b83b9cae9c135e4b89181</td>\n",
       "    </tr>\n",
       "    <tr>\n",
       "      <th>65</th>\n",
       "      <td>NFLX</td>\n",
       "      <td>2019</td>\n",
       "      <td>690287c31d36511f8b8c3df884b0b1f5</td>\n",
       "    </tr>\n",
       "    <tr>\n",
       "      <th>66</th>\n",
       "      <td>NFLX</td>\n",
       "      <td>2020</td>\n",
       "      <td>c568b7d3f3f0f1b67bc23b845cc87228</td>\n",
       "    </tr>\n",
       "    <tr>\n",
       "      <th>67</th>\n",
       "      <td>NFLX</td>\n",
       "      <td>2021</td>\n",
       "      <td>a89c7d8e8629bf6bd1581df6dc0f1957</td>\n",
       "    </tr>\n",
       "    <tr>\n",
       "      <th>68</th>\n",
       "      <td>NFLX</td>\n",
       "      <td>2022</td>\n",
       "      <td>1fa90be65f2d680316cc77b1614b7b7d</td>\n",
       "    </tr>\n",
       "  </tbody>\n",
       "</table>\n",
       "</div>"
      ],
      "text/plain": [
       "   ticker  year_of_filing                         filing_id\n",
       "56   NFLX            2010  ffa98849e10e1046fc26f9649baf6f94\n",
       "57   NFLX            2011  606e270bc9cba63106fa3231f4ee31ae\n",
       "58   NFLX            2012  213bb461b86e95f40ca7e182492d0e2c\n",
       "59   NFLX            2013  73c550cbef01d1fba6a44ab484dff5db\n",
       "60   NFLX            2014  7408333d4398fb377a440fc797eb9157\n",
       "61   NFLX            2015  ac0212ec39ad81c404d11124cda9e072\n",
       "62   NFLX            2016  5a98d5a867cc632d4840fdc9f5933fe9\n",
       "63   NFLX            2017  4a40ccf944d9aaee880a3652439d586e\n",
       "64   NFLX            2018  87f7af12437b83b9cae9c135e4b89181\n",
       "65   NFLX            2019  690287c31d36511f8b8c3df884b0b1f5\n",
       "66   NFLX            2020  c568b7d3f3f0f1b67bc23b845cc87228\n",
       "67   NFLX            2021  a89c7d8e8629bf6bd1581df6dc0f1957\n",
       "68   NFLX            2022  1fa90be65f2d680316cc77b1614b7b7d"
      ]
     },
     "execution_count": 47,
     "metadata": {},
     "output_type": "execute_result"
    }
   ],
   "source": [
    "new_df[(new_df['ticker'] == 'NFLX')].drop_duplicates()"
   ]
  },
  {
   "cell_type": "code",
   "execution_count": 50,
   "metadata": {},
   "outputs": [
    {
     "data": {
      "text/html": [
       "<div>\n",
       "<style scoped>\n",
       "    .dataframe tbody tr th:only-of-type {\n",
       "        vertical-align: middle;\n",
       "    }\n",
       "\n",
       "    .dataframe tbody tr th {\n",
       "        vertical-align: top;\n",
       "    }\n",
       "\n",
       "    .dataframe thead th {\n",
       "        text-align: right;\n",
       "    }\n",
       "</style>\n",
       "<table border=\"1\" class=\"dataframe\">\n",
       "  <thead>\n",
       "    <tr style=\"text-align: right;\">\n",
       "      <th></th>\n",
       "      <th>ticker</th>\n",
       "      <th>filing_date</th>\n",
       "      <th>section</th>\n",
       "      <th>year_of_filing</th>\n",
       "      <th>company_name</th>\n",
       "      <th>context</th>\n",
       "      <th>embedding</th>\n",
       "      <th>filing_id</th>\n",
       "    </tr>\n",
       "  </thead>\n",
       "  <tbody>\n",
       "    <tr>\n",
       "      <th>0</th>\n",
       "      <td>AMZN</td>\n",
       "      <td>2010-01-29</td>\n",
       "      <td>Business</td>\n",
       "      <td>2010</td>\n",
       "      <td>AMAZON COM INC</td>\n",
       "      <td>Company: AMAZON COM INC (AMZN)\\nThis Annual Re...</td>\n",
       "      <td>[0.064206064, -0.54433095, -0.36170813, 0.0565...</td>\n",
       "      <td>de30fba5d4db4be30007c8119dd8451f</td>\n",
       "    </tr>\n",
       "    <tr>\n",
       "      <th>1</th>\n",
       "      <td>AMZN</td>\n",
       "      <td>2010-01-29</td>\n",
       "      <td>Business</td>\n",
       "      <td>2010</td>\n",
       "      <td>AMAZON COM INC</td>\n",
       "      <td>Company: AMAZON COM INC (AMZN)\\nWe completed o...</td>\n",
       "      <td>[0.19773945, -0.6633003, -0.32106644, -0.04229...</td>\n",
       "      <td>de30fba5d4db4be30007c8119dd8451f</td>\n",
       "    </tr>\n",
       "    <tr>\n",
       "      <th>2</th>\n",
       "      <td>AMZN</td>\n",
       "      <td>2010-01-29</td>\n",
       "      <td>Business</td>\n",
       "      <td>2010</td>\n",
       "      <td>AMAZON COM INC</td>\n",
       "      <td>Company: AMAZON COM INC (AMZN)\\nWe have organi...</td>\n",
       "      <td>[0.18689841, -0.24920216, -0.38556015, 0.06467...</td>\n",
       "      <td>de30fba5d4db4be30007c8119dd8451f</td>\n",
       "    </tr>\n",
       "    <tr>\n",
       "      <th>3</th>\n",
       "      <td>AMZN</td>\n",
       "      <td>2010-01-29</td>\n",
       "      <td>Business</td>\n",
       "      <td>2010</td>\n",
       "      <td>AMAZON COM INC</td>\n",
       "      <td>Company: AMAZON COM INC (AMZN)\\nWe also manufa...</td>\n",
       "      <td>[0.14794555, -0.4436285, -0.34766313, 0.061945...</td>\n",
       "      <td>de30fba5d4db4be30007c8119dd8451f</td>\n",
       "    </tr>\n",
       "    <tr>\n",
       "      <th>4</th>\n",
       "      <td>AMZN</td>\n",
       "      <td>2010-01-29</td>\n",
       "      <td>Business</td>\n",
       "      <td>2010</td>\n",
       "      <td>AMAZON COM INC</td>\n",
       "      <td>Company: AMAZON COM INC (AMZN)\\nWe operate cus...</td>\n",
       "      <td>[0.06934562, -0.21145937, -0.36523664, 0.01908...</td>\n",
       "      <td>de30fba5d4db4be30007c8119dd8451f</td>\n",
       "    </tr>\n",
       "  </tbody>\n",
       "</table>\n",
       "</div>"
      ],
      "text/plain": [
       "  ticker filing_date   section  year_of_filing    company_name  \\\n",
       "0   AMZN  2010-01-29  Business            2010  AMAZON COM INC   \n",
       "1   AMZN  2010-01-29  Business            2010  AMAZON COM INC   \n",
       "2   AMZN  2010-01-29  Business            2010  AMAZON COM INC   \n",
       "3   AMZN  2010-01-29  Business            2010  AMAZON COM INC   \n",
       "4   AMZN  2010-01-29  Business            2010  AMAZON COM INC   \n",
       "\n",
       "                                             context  \\\n",
       "0  Company: AMAZON COM INC (AMZN)\\nThis Annual Re...   \n",
       "1  Company: AMAZON COM INC (AMZN)\\nWe completed o...   \n",
       "2  Company: AMAZON COM INC (AMZN)\\nWe have organi...   \n",
       "3  Company: AMAZON COM INC (AMZN)\\nWe also manufa...   \n",
       "4  Company: AMAZON COM INC (AMZN)\\nWe operate cus...   \n",
       "\n",
       "                                           embedding  \\\n",
       "0  [0.064206064, -0.54433095, -0.36170813, 0.0565...   \n",
       "1  [0.19773945, -0.6633003, -0.32106644, -0.04229...   \n",
       "2  [0.18689841, -0.24920216, -0.38556015, 0.06467...   \n",
       "3  [0.14794555, -0.4436285, -0.34766313, 0.061945...   \n",
       "4  [0.06934562, -0.21145937, -0.36523664, 0.01908...   \n",
       "\n",
       "                          filing_id  \n",
       "0  de30fba5d4db4be30007c8119dd8451f  \n",
       "1  de30fba5d4db4be30007c8119dd8451f  \n",
       "2  de30fba5d4db4be30007c8119dd8451f  \n",
       "3  de30fba5d4db4be30007c8119dd8451f  \n",
       "4  de30fba5d4db4be30007c8119dd8451f  "
      ]
     },
     "execution_count": 50,
     "metadata": {},
     "output_type": "execute_result"
    }
   ],
   "source": [
    "# merging with the original dataframes\n",
    "test_df = df.merge(new_df, on=['ticker', 'year_of_filing'], how='left')\n",
    "test_df.head()"
   ]
  },
  {
   "cell_type": "code",
   "execution_count": 52,
   "metadata": {},
   "outputs": [
    {
     "data": {
      "text/html": [
       "<div>\n",
       "<style scoped>\n",
       "    .dataframe tbody tr th:only-of-type {\n",
       "        vertical-align: middle;\n",
       "    }\n",
       "\n",
       "    .dataframe tbody tr th {\n",
       "        vertical-align: top;\n",
       "    }\n",
       "\n",
       "    .dataframe thead th {\n",
       "        text-align: right;\n",
       "    }\n",
       "</style>\n",
       "<table border=\"1\" class=\"dataframe\">\n",
       "  <thead>\n",
       "    <tr style=\"text-align: right;\">\n",
       "      <th></th>\n",
       "      <th>ticker</th>\n",
       "      <th>filing_date</th>\n",
       "      <th>year_of_filing</th>\n",
       "      <th>company_name</th>\n",
       "      <th>context</th>\n",
       "      <th>embedding</th>\n",
       "      <th>filing_id</th>\n",
       "    </tr>\n",
       "  </thead>\n",
       "  <tbody>\n",
       "    <tr>\n",
       "      <th>0</th>\n",
       "      <td>AMZN</td>\n",
       "      <td>2010-01-29</td>\n",
       "      <td>2010</td>\n",
       "      <td>AMAZON COM INC</td>\n",
       "      <td>Company: AMAZON COM INC (AMZN)\\nThis Annual Re...</td>\n",
       "      <td>[0.064206064, -0.54433095, -0.36170813, 0.0565...</td>\n",
       "      <td>de30fba5d4db4be30007c8119dd8451f</td>\n",
       "    </tr>\n",
       "    <tr>\n",
       "      <th>1</th>\n",
       "      <td>AMZN</td>\n",
       "      <td>2010-01-29</td>\n",
       "      <td>2010</td>\n",
       "      <td>AMAZON COM INC</td>\n",
       "      <td>Company: AMAZON COM INC (AMZN)\\nWe completed o...</td>\n",
       "      <td>[0.19773945, -0.6633003, -0.32106644, -0.04229...</td>\n",
       "      <td>de30fba5d4db4be30007c8119dd8451f</td>\n",
       "    </tr>\n",
       "    <tr>\n",
       "      <th>2</th>\n",
       "      <td>AMZN</td>\n",
       "      <td>2010-01-29</td>\n",
       "      <td>2010</td>\n",
       "      <td>AMAZON COM INC</td>\n",
       "      <td>Company: AMAZON COM INC (AMZN)\\nWe have organi...</td>\n",
       "      <td>[0.18689841, -0.24920216, -0.38556015, 0.06467...</td>\n",
       "      <td>de30fba5d4db4be30007c8119dd8451f</td>\n",
       "    </tr>\n",
       "    <tr>\n",
       "      <th>3</th>\n",
       "      <td>AMZN</td>\n",
       "      <td>2010-01-29</td>\n",
       "      <td>2010</td>\n",
       "      <td>AMAZON COM INC</td>\n",
       "      <td>Company: AMAZON COM INC (AMZN)\\nWe also manufa...</td>\n",
       "      <td>[0.14794555, -0.4436285, -0.34766313, 0.061945...</td>\n",
       "      <td>de30fba5d4db4be30007c8119dd8451f</td>\n",
       "    </tr>\n",
       "    <tr>\n",
       "      <th>4</th>\n",
       "      <td>AMZN</td>\n",
       "      <td>2010-01-29</td>\n",
       "      <td>2010</td>\n",
       "      <td>AMAZON COM INC</td>\n",
       "      <td>Company: AMAZON COM INC (AMZN)\\nWe operate cus...</td>\n",
       "      <td>[0.06934562, -0.21145937, -0.36523664, 0.01908...</td>\n",
       "      <td>de30fba5d4db4be30007c8119dd8451f</td>\n",
       "    </tr>\n",
       "  </tbody>\n",
       "</table>\n",
       "</div>"
      ],
      "text/plain": [
       "  ticker filing_date  year_of_filing    company_name  \\\n",
       "0   AMZN  2010-01-29            2010  AMAZON COM INC   \n",
       "1   AMZN  2010-01-29            2010  AMAZON COM INC   \n",
       "2   AMZN  2010-01-29            2010  AMAZON COM INC   \n",
       "3   AMZN  2010-01-29            2010  AMAZON COM INC   \n",
       "4   AMZN  2010-01-29            2010  AMAZON COM INC   \n",
       "\n",
       "                                             context  \\\n",
       "0  Company: AMAZON COM INC (AMZN)\\nThis Annual Re...   \n",
       "1  Company: AMAZON COM INC (AMZN)\\nWe completed o...   \n",
       "2  Company: AMAZON COM INC (AMZN)\\nWe have organi...   \n",
       "3  Company: AMAZON COM INC (AMZN)\\nWe also manufa...   \n",
       "4  Company: AMAZON COM INC (AMZN)\\nWe operate cus...   \n",
       "\n",
       "                                           embedding  \\\n",
       "0  [0.064206064, -0.54433095, -0.36170813, 0.0565...   \n",
       "1  [0.19773945, -0.6633003, -0.32106644, -0.04229...   \n",
       "2  [0.18689841, -0.24920216, -0.38556015, 0.06467...   \n",
       "3  [0.14794555, -0.4436285, -0.34766313, 0.061945...   \n",
       "4  [0.06934562, -0.21145937, -0.36523664, 0.01908...   \n",
       "\n",
       "                          filing_id  \n",
       "0  de30fba5d4db4be30007c8119dd8451f  \n",
       "1  de30fba5d4db4be30007c8119dd8451f  \n",
       "2  de30fba5d4db4be30007c8119dd8451f  \n",
       "3  de30fba5d4db4be30007c8119dd8451f  \n",
       "4  de30fba5d4db4be30007c8119dd8451f  "
      ]
     },
     "execution_count": 52,
     "metadata": {},
     "output_type": "execute_result"
    }
   ],
   "source": [
    "test_df.drop(columns=['section'], inplace=True)\n",
    "test_df.head()"
   ]
  },
  {
   "cell_type": "code",
   "execution_count": 55,
   "metadata": {},
   "outputs": [
    {
     "data": {
      "text/html": [
       "<div>\n",
       "<style scoped>\n",
       "    .dataframe tbody tr th:only-of-type {\n",
       "        vertical-align: middle;\n",
       "    }\n",
       "\n",
       "    .dataframe tbody tr th {\n",
       "        vertical-align: top;\n",
       "    }\n",
       "\n",
       "    .dataframe thead th {\n",
       "        text-align: right;\n",
       "    }\n",
       "</style>\n",
       "<table border=\"1\" class=\"dataframe\">\n",
       "  <thead>\n",
       "    <tr style=\"text-align: right;\">\n",
       "      <th></th>\n",
       "      <th>ticker</th>\n",
       "      <th>year_of_filing</th>\n",
       "      <th>company_name</th>\n",
       "      <th>context</th>\n",
       "      <th>embedding</th>\n",
       "      <th>filing_id</th>\n",
       "    </tr>\n",
       "  </thead>\n",
       "  <tbody>\n",
       "    <tr>\n",
       "      <th>0</th>\n",
       "      <td>AMZN</td>\n",
       "      <td>2010</td>\n",
       "      <td>AMAZON COM INC</td>\n",
       "      <td>Company: AMAZON COM INC (AMZN)\\nThis Annual Re...</td>\n",
       "      <td>[0.064206064, -0.54433095, -0.36170813, 0.0565...</td>\n",
       "      <td>de30fba5d4db4be30007c8119dd8451f</td>\n",
       "    </tr>\n",
       "    <tr>\n",
       "      <th>1</th>\n",
       "      <td>AMZN</td>\n",
       "      <td>2010</td>\n",
       "      <td>AMAZON COM INC</td>\n",
       "      <td>Company: AMAZON COM INC (AMZN)\\nWe completed o...</td>\n",
       "      <td>[0.19773945, -0.6633003, -0.32106644, -0.04229...</td>\n",
       "      <td>de30fba5d4db4be30007c8119dd8451f</td>\n",
       "    </tr>\n",
       "    <tr>\n",
       "      <th>2</th>\n",
       "      <td>AMZN</td>\n",
       "      <td>2010</td>\n",
       "      <td>AMAZON COM INC</td>\n",
       "      <td>Company: AMAZON COM INC (AMZN)\\nWe have organi...</td>\n",
       "      <td>[0.18689841, -0.24920216, -0.38556015, 0.06467...</td>\n",
       "      <td>de30fba5d4db4be30007c8119dd8451f</td>\n",
       "    </tr>\n",
       "    <tr>\n",
       "      <th>3</th>\n",
       "      <td>AMZN</td>\n",
       "      <td>2010</td>\n",
       "      <td>AMAZON COM INC</td>\n",
       "      <td>Company: AMAZON COM INC (AMZN)\\nWe also manufa...</td>\n",
       "      <td>[0.14794555, -0.4436285, -0.34766313, 0.061945...</td>\n",
       "      <td>de30fba5d4db4be30007c8119dd8451f</td>\n",
       "    </tr>\n",
       "    <tr>\n",
       "      <th>4</th>\n",
       "      <td>AMZN</td>\n",
       "      <td>2010</td>\n",
       "      <td>AMAZON COM INC</td>\n",
       "      <td>Company: AMAZON COM INC (AMZN)\\nWe operate cus...</td>\n",
       "      <td>[0.06934562, -0.21145937, -0.36523664, 0.01908...</td>\n",
       "      <td>de30fba5d4db4be30007c8119dd8451f</td>\n",
       "    </tr>\n",
       "  </tbody>\n",
       "</table>\n",
       "</div>"
      ],
      "text/plain": [
       "  ticker  year_of_filing    company_name  \\\n",
       "0   AMZN            2010  AMAZON COM INC   \n",
       "1   AMZN            2010  AMAZON COM INC   \n",
       "2   AMZN            2010  AMAZON COM INC   \n",
       "3   AMZN            2010  AMAZON COM INC   \n",
       "4   AMZN            2010  AMAZON COM INC   \n",
       "\n",
       "                                             context  \\\n",
       "0  Company: AMAZON COM INC (AMZN)\\nThis Annual Re...   \n",
       "1  Company: AMAZON COM INC (AMZN)\\nWe completed o...   \n",
       "2  Company: AMAZON COM INC (AMZN)\\nWe have organi...   \n",
       "3  Company: AMAZON COM INC (AMZN)\\nWe also manufa...   \n",
       "4  Company: AMAZON COM INC (AMZN)\\nWe operate cus...   \n",
       "\n",
       "                                           embedding  \\\n",
       "0  [0.064206064, -0.54433095, -0.36170813, 0.0565...   \n",
       "1  [0.19773945, -0.6633003, -0.32106644, -0.04229...   \n",
       "2  [0.18689841, -0.24920216, -0.38556015, 0.06467...   \n",
       "3  [0.14794555, -0.4436285, -0.34766313, 0.061945...   \n",
       "4  [0.06934562, -0.21145937, -0.36523664, 0.01908...   \n",
       "\n",
       "                          filing_id  \n",
       "0  de30fba5d4db4be30007c8119dd8451f  \n",
       "1  de30fba5d4db4be30007c8119dd8451f  \n",
       "2  de30fba5d4db4be30007c8119dd8451f  \n",
       "3  de30fba5d4db4be30007c8119dd8451f  \n",
       "4  de30fba5d4db4be30007c8119dd8451f  "
      ]
     },
     "execution_count": 55,
     "metadata": {},
     "output_type": "execute_result"
    }
   ],
   "source": [
    "test_df.drop(columns=['filing_date'], inplace=True)\n",
    "test_df.head()"
   ]
  },
  {
   "cell_type": "code",
   "execution_count": 58,
   "metadata": {},
   "outputs": [
    {
     "data": {
      "text/plain": [
       "Index(['ticker', 'year_of_filing', 'company_name', 'context', 'embedding',\n",
       "       'filing_id'],\n",
       "      dtype='object')"
      ]
     },
     "execution_count": 58,
     "metadata": {},
     "output_type": "execute_result"
    }
   ],
   "source": [
    "test_df.columns"
   ]
  },
  {
   "cell_type": "code",
   "execution_count": 59,
   "metadata": {},
   "outputs": [],
   "source": [
    "test_df_2 = test_df[['year_of_filing', 'company_name', 'context', 'embedding',\n",
    "       'filing_id', 'ticker']].copy()"
   ]
  },
  {
   "cell_type": "code",
   "execution_count": 66,
   "metadata": {},
   "outputs": [
    {
     "data": {
      "text/html": [
       "<div>\n",
       "<style scoped>\n",
       "    .dataframe tbody tr th:only-of-type {\n",
       "        vertical-align: middle;\n",
       "    }\n",
       "\n",
       "    .dataframe tbody tr th {\n",
       "        vertical-align: top;\n",
       "    }\n",
       "\n",
       "    .dataframe thead th {\n",
       "        text-align: right;\n",
       "    }\n",
       "</style>\n",
       "<table border=\"1\" class=\"dataframe\">\n",
       "  <thead>\n",
       "    <tr style=\"text-align: right;\">\n",
       "      <th></th>\n",
       "      <th>ticker</th>\n",
       "      <th>year_of_filing</th>\n",
       "      <th>company_name</th>\n",
       "      <th>context</th>\n",
       "      <th>embedding</th>\n",
       "      <th>filing_id</th>\n",
       "    </tr>\n",
       "  </thead>\n",
       "  <tbody>\n",
       "    <tr>\n",
       "      <th>0</th>\n",
       "      <td>AMZN</td>\n",
       "      <td>2010</td>\n",
       "      <td>AMAZON COM INC</td>\n",
       "      <td>Company: AMAZON COM INC (AMZN)\\nThis Annual Re...</td>\n",
       "      <td>[0.064206064, -0.54433095, -0.36170813, 0.0565...</td>\n",
       "      <td>de30fba5d4db4be30007c8119dd8451f</td>\n",
       "    </tr>\n",
       "    <tr>\n",
       "      <th>1</th>\n",
       "      <td>AMZN</td>\n",
       "      <td>2010</td>\n",
       "      <td>AMAZON COM INC</td>\n",
       "      <td>Company: AMAZON COM INC (AMZN)\\nWe completed o...</td>\n",
       "      <td>[0.19773945, -0.6633003, -0.32106644, -0.04229...</td>\n",
       "      <td>de30fba5d4db4be30007c8119dd8451f</td>\n",
       "    </tr>\n",
       "    <tr>\n",
       "      <th>2</th>\n",
       "      <td>AMZN</td>\n",
       "      <td>2010</td>\n",
       "      <td>AMAZON COM INC</td>\n",
       "      <td>Company: AMAZON COM INC (AMZN)\\nWe have organi...</td>\n",
       "      <td>[0.18689841, -0.24920216, -0.38556015, 0.06467...</td>\n",
       "      <td>de30fba5d4db4be30007c8119dd8451f</td>\n",
       "    </tr>\n",
       "    <tr>\n",
       "      <th>3</th>\n",
       "      <td>AMZN</td>\n",
       "      <td>2010</td>\n",
       "      <td>AMAZON COM INC</td>\n",
       "      <td>Company: AMAZON COM INC (AMZN)\\nWe also manufa...</td>\n",
       "      <td>[0.14794555, -0.4436285, -0.34766313, 0.061945...</td>\n",
       "      <td>de30fba5d4db4be30007c8119dd8451f</td>\n",
       "    </tr>\n",
       "    <tr>\n",
       "      <th>4</th>\n",
       "      <td>AMZN</td>\n",
       "      <td>2010</td>\n",
       "      <td>AMAZON COM INC</td>\n",
       "      <td>Company: AMAZON COM INC (AMZN)\\nWe operate cus...</td>\n",
       "      <td>[0.06934562, -0.21145937, -0.36523664, 0.01908...</td>\n",
       "      <td>de30fba5d4db4be30007c8119dd8451f</td>\n",
       "    </tr>\n",
       "  </tbody>\n",
       "</table>\n",
       "</div>"
      ],
      "text/plain": [
       "  ticker  year_of_filing    company_name  \\\n",
       "0   AMZN            2010  AMAZON COM INC   \n",
       "1   AMZN            2010  AMAZON COM INC   \n",
       "2   AMZN            2010  AMAZON COM INC   \n",
       "3   AMZN            2010  AMAZON COM INC   \n",
       "4   AMZN            2010  AMAZON COM INC   \n",
       "\n",
       "                                             context  \\\n",
       "0  Company: AMAZON COM INC (AMZN)\\nThis Annual Re...   \n",
       "1  Company: AMAZON COM INC (AMZN)\\nWe completed o...   \n",
       "2  Company: AMAZON COM INC (AMZN)\\nWe have organi...   \n",
       "3  Company: AMAZON COM INC (AMZN)\\nWe also manufa...   \n",
       "4  Company: AMAZON COM INC (AMZN)\\nWe operate cus...   \n",
       "\n",
       "                                           embedding  \\\n",
       "0  [0.064206064, -0.54433095, -0.36170813, 0.0565...   \n",
       "1  [0.19773945, -0.6633003, -0.32106644, -0.04229...   \n",
       "2  [0.18689841, -0.24920216, -0.38556015, 0.06467...   \n",
       "3  [0.14794555, -0.4436285, -0.34766313, 0.061945...   \n",
       "4  [0.06934562, -0.21145937, -0.36523664, 0.01908...   \n",
       "\n",
       "                          filing_id  \n",
       "0  de30fba5d4db4be30007c8119dd8451f  \n",
       "1  de30fba5d4db4be30007c8119dd8451f  \n",
       "2  de30fba5d4db4be30007c8119dd8451f  \n",
       "3  de30fba5d4db4be30007c8119dd8451f  \n",
       "4  de30fba5d4db4be30007c8119dd8451f  "
      ]
     },
     "execution_count": 66,
     "metadata": {},
     "output_type": "execute_result"
    }
   ],
   "source": [
    "merge_df = pd.concat([test_df, test_df_2])\n",
    "merge_df.head()"
   ]
  },
  {
   "cell_type": "code",
   "execution_count": null,
   "metadata": {},
   "outputs": [],
   "source": []
  },
  {
   "cell_type": "code",
   "execution_count": 6,
   "metadata": {},
   "outputs": [
    {
     "data": {
      "text/plain": [
       "array([2010, 2011, 2012, 2013, 2014, 2015, 2016, 2017, 2018, 2019, 2020,\n",
       "       2021, 2022])"
      ]
     },
     "execution_count": 6,
     "metadata": {},
     "output_type": "execute_result"
    }
   ],
   "source": [
    "df[df['ticker'] == 'AAPL']['year_of_filing'].unique()"
   ]
  },
  {
   "cell_type": "code",
   "execution_count": 17,
   "metadata": {},
   "outputs": [
    {
     "data": {
      "text/plain": [
       "ticker\n",
       "AAPL    [2010, 2011, 2012, 2013, 2014, 2015, 2016, 201...\n",
       "AMZN    [2010, 2011, 2012, 2013, 2014, 2015, 2016, 201...\n",
       "GOOG           [2016, 2017, 2018, 2019, 2020, 2021, 2022]\n",
       "META    [2013, 2014, 2015, 2016, 2017, 2018, 2019, 202...\n",
       "MSFT    [2010, 2011, 2012, 2013, 2014, 2015, 2016, 201...\n",
       "NFLX    [2010, 2011, 2012, 2013, 2014, 2015, 2016, 201...\n",
       "Name: year_of_filing, dtype: object"
      ]
     },
     "execution_count": 17,
     "metadata": {},
     "output_type": "execute_result"
    }
   ],
   "source": [
    "ticker_years = df.groupby('ticker')['year_of_filing'].unique()\n",
    "ticker_years\n"
   ]
  },
  {
   "cell_type": "code",
   "execution_count": 26,
   "metadata": {},
   "outputs": [
    {
     "data": {
      "text/plain": [
       "ticker\n",
       "AAPL    [2010-10-27, 2011-10-26, 2012-10-31, 2013-10-3...\n",
       "AMZN    [2010-01-29, 2011-01-28, 2012-02-01, 2013-01-3...\n",
       "GOOG    [2016-02-11, 2017-02-03, 2018-02-06, 2019-02-0...\n",
       "META    [2013-02-01, 2014-01-31, 2015-01-29, 2016-01-2...\n",
       "MSFT    [2010-07-30, 2011-07-28, 2012-07-26, 2013-07-3...\n",
       "NFLX    [2010-02-22, 2011-02-18, 2012-02-10, 2013-02-0...\n",
       "Name: filing_date, dtype: object"
      ]
     },
     "execution_count": 26,
     "metadata": {},
     "output_type": "execute_result"
    }
   ],
   "source": [
    "df.groupby('ticker')['filing_date'].unique()"
   ]
  },
  {
   "cell_type": "code",
   "execution_count": 18,
   "metadata": {},
   "outputs": [
    {
     "data": {
      "text/plain": [
       "ticker\n",
       "AAPL    13\n",
       "AMZN    13\n",
       "GOOG     7\n",
       "META    10\n",
       "MSFT    13\n",
       "NFLX    13\n",
       "Name: year_of_filing, dtype: int64"
      ]
     },
     "execution_count": 18,
     "metadata": {},
     "output_type": "execute_result"
    }
   ],
   "source": [
    "ty = df.groupby('ticker')['year_of_filing'].nunique()\n",
    "ty"
   ]
  },
  {
   "cell_type": "code",
   "execution_count": 39,
   "metadata": {},
   "outputs": [
    {
     "data": {
      "text/html": [
       "<div>\n",
       "<style scoped>\n",
       "    .dataframe tbody tr th:only-of-type {\n",
       "        vertical-align: middle;\n",
       "    }\n",
       "\n",
       "    .dataframe tbody tr th {\n",
       "        vertical-align: top;\n",
       "    }\n",
       "\n",
       "    .dataframe thead th {\n",
       "        text-align: right;\n",
       "    }\n",
       "</style>\n",
       "<table border=\"1\" class=\"dataframe\">\n",
       "  <thead>\n",
       "    <tr style=\"text-align: right;\">\n",
       "      <th></th>\n",
       "      <th>texts</th>\n",
       "      <th>context</th>\n",
       "      <th>embedding</th>\n",
       "      <th>filing_id</th>\n",
       "      <th>company_name</th>\n",
       "      <th>ticker</th>\n",
       "      <th>year_of_filing</th>\n",
       "    </tr>\n",
       "  </thead>\n",
       "  <tbody>\n",
       "    <tr>\n",
       "      <th>0</th>\n",
       "      <td>UNITED STATES SECURITIES AND EXCHANGE COMMISSI...</td>\n",
       "      <td>Company: Apple Inc. (AAPL)\\nUNITED STATES SECU...</td>\n",
       "      <td>[-0.18820103, -0.20937623, -0.34488305, -0.258...</td>\n",
       "      <td>96618433ccb8db908723fb09aa081a34</td>\n",
       "      <td>Apple Inc.</td>\n",
       "      <td>AAPL</td>\n",
       "      <td>2020</td>\n",
       "    </tr>\n",
       "    <tr>\n",
       "      <th>1</th>\n",
       "      <td>Yes ☒ No ☐ Indicate by check mark whether the ...</td>\n",
       "      <td>Company: Apple Inc. (AAPL)\\nYes ☒ No ☐ Indicat...</td>\n",
       "      <td>[-0.28359035, -0.44796526, -0.33753213, -0.184...</td>\n",
       "      <td>96618433ccb8db908723fb09aa081a34</td>\n",
       "      <td>Apple Inc.</td>\n",
       "      <td>AAPL</td>\n",
       "      <td>2020</td>\n",
       "    </tr>\n",
       "    <tr>\n",
       "      <th>2</th>\n",
       "      <td>Yes ☐ No ☒ The aggregate market value of the v...</td>\n",
       "      <td>Company: Apple Inc. (AAPL)\\nYes ☐ No ☒ The agg...</td>\n",
       "      <td>[-0.2085979, -0.42188534, -0.25574657, 0.14031...</td>\n",
       "      <td>96618433ccb8db908723fb09aa081a34</td>\n",
       "      <td>Apple Inc.</td>\n",
       "      <td>AAPL</td>\n",
       "      <td>2020</td>\n",
       "    </tr>\n",
       "    <tr>\n",
       "      <th>3</th>\n",
       "      <td>The 2021 Proxy Statement will be ﬁled with the...</td>\n",
       "      <td>Company: Apple Inc. (AAPL)\\nThe 2021 Proxy Sta...</td>\n",
       "      <td>[-0.037240673, -0.42476544, -0.35393596, -0.36...</td>\n",
       "      <td>96618433ccb8db908723fb09aa081a34</td>\n",
       "      <td>Apple Inc.</td>\n",
       "      <td>AAPL</td>\n",
       "      <td>2020</td>\n",
       "    </tr>\n",
       "    <tr>\n",
       "      <th>4</th>\n",
       "      <td>Many of the forward-looking statements are loc...</td>\n",
       "      <td>Company: Apple Inc. (AAPL)\\nMany of the forwar...</td>\n",
       "      <td>[0.06492454, -0.42745784, -0.35366333, -0.2782...</td>\n",
       "      <td>96618433ccb8db908723fb09aa081a34</td>\n",
       "      <td>Apple Inc.</td>\n",
       "      <td>AAPL</td>\n",
       "      <td>2020</td>\n",
       "    </tr>\n",
       "  </tbody>\n",
       "</table>\n",
       "</div>"
      ],
      "text/plain": [
       "                                               texts  \\\n",
       "0  UNITED STATES SECURITIES AND EXCHANGE COMMISSI...   \n",
       "1  Yes ☒ No ☐ Indicate by check mark whether the ...   \n",
       "2  Yes ☐ No ☒ The aggregate market value of the v...   \n",
       "3  The 2021 Proxy Statement will be ﬁled with the...   \n",
       "4  Many of the forward-looking statements are loc...   \n",
       "\n",
       "                                             context  \\\n",
       "0  Company: Apple Inc. (AAPL)\\nUNITED STATES SECU...   \n",
       "1  Company: Apple Inc. (AAPL)\\nYes ☒ No ☐ Indicat...   \n",
       "2  Company: Apple Inc. (AAPL)\\nYes ☐ No ☒ The agg...   \n",
       "3  Company: Apple Inc. (AAPL)\\nThe 2021 Proxy Sta...   \n",
       "4  Company: Apple Inc. (AAPL)\\nMany of the forwar...   \n",
       "\n",
       "                                           embedding  \\\n",
       "0  [-0.18820103, -0.20937623, -0.34488305, -0.258...   \n",
       "1  [-0.28359035, -0.44796526, -0.33753213, -0.184...   \n",
       "2  [-0.2085979, -0.42188534, -0.25574657, 0.14031...   \n",
       "3  [-0.037240673, -0.42476544, -0.35393596, -0.36...   \n",
       "4  [0.06492454, -0.42745784, -0.35366333, -0.2782...   \n",
       "\n",
       "                          filing_id company_name ticker  year_of_filing  \n",
       "0  96618433ccb8db908723fb09aa081a34   Apple Inc.   AAPL            2020  \n",
       "1  96618433ccb8db908723fb09aa081a34   Apple Inc.   AAPL            2020  \n",
       "2  96618433ccb8db908723fb09aa081a34   Apple Inc.   AAPL            2020  \n",
       "3  96618433ccb8db908723fb09aa081a34   Apple Inc.   AAPL            2020  \n",
       "4  96618433ccb8db908723fb09aa081a34   Apple Inc.   AAPL            2020  "
      ]
     },
     "execution_count": 39,
     "metadata": {},
     "output_type": "execute_result"
    }
   ],
   "source": [
    "import pandas as pd\n",
    "a = pd.read_parquet('df_texts.parquet')\n",
    "a.head()"
   ]
  },
  {
   "cell_type": "code",
   "execution_count": 3,
   "metadata": {},
   "outputs": [],
   "source": []
  },
  {
   "cell_type": "code",
   "execution_count": 25,
   "metadata": {},
   "outputs": [],
   "source": [
    "import aiohttp\n",
    "import asyncio\n",
    "import pdfkit\n",
    "import re\n",
    "from sentence_transformers import SentenceTransformer, CrossEncoder, util\n",
    "from user_agent import generate_user_agent\n",
    "from pdfminer.high_level import extract_text\n",
    "import requests\n",
    "import json\n",
    "import re\n",
    "import pdfkit\n",
    "import json\n",
    "import sys\n",
    "import time\n",
    "import pandas as pd\n",
    "from user_agent import generate_user_agent\n",
    "from sentence_transformers import SentenceTransformer, CrossEncoder, util\n",
    "from tqdm import tqdm\n",
    "tqdm.pandas()\n",
    "\n",
    "special_header = {\":authority\": \"www.sec.gov\",\n",
    "\":method\": \"GET\",\n",
    "\":path\": \"/Archives/edgar/data/320193/000119312515356351/d17062d10k.htm\",\n",
    "\":scheme\": \"https\",\n",
    "\"accept\": \"text/html,application/xhtml+xml,application/xml;q=0.9,image/avif,image/webp,image/apng,*/*;q=0.8,application/signed-exchange;v=b3;q=0.7\",\n",
    "\"accept-encoding\": \"gzip, deflate, br\",\n",
    "\"accept-language\": \"en-US,en;q=0.9\",\n",
    "\"cache-control\": \"max-age=0\",\n",
    "\"sec-ch-ua\": '\"Chromium\";v=\"112\", \"Google Chrome\";v=\"112\", \"Not:A-Brand\";v=\"99\"',\n",
    "\"sec-ch-ua-mobile\": \"?0\",\n",
    "\"sec-ch-ua-platform\": \"macOS\",\n",
    "\"sec-fetch-dest\": \"document\",\n",
    "\"sec-fetch-mode\": \"navigate\",\n",
    "\"sec-fetch-site\": \"none\",\n",
    "\"sec-fetch-user\": \"?1\",\n",
    "\"upgrade-insecure-requests\": \"1\",\n",
    "\"user-agent\": \"Mozilla/5.0 (Macintosh; Intel Mac OS X 10_15_7) AppleWebKit/537.36 (KHTML, like Gecko) Chrome/112.0.0.0 Safari/537.36\"}\n",
    "\n",
    "\n",
    "mymodel = '/Users/slidarey/Downloads/rbc-demo/90000'\n",
    "\n",
    "async def content_embedding(content, model_name):\n",
    "    '''\n",
    "    generating embedding for model\n",
    "    '''\n",
    "    #Load the model\n",
    "    # model = SentenceTransformer('sentence-transformers/' + model_name)\n",
    "    model = SentenceTransformer(model_name)\n",
    "\n",
    "    embeddings = await asyncio.to_thread(model.encode, content)\n",
    "    return embeddings\n",
    "\n",
    "\n",
    "def create_df(list_of_texts):\n",
    "    '''\n",
    "    Function to create dataframe from the series of list of dictionaries.\n",
    "    '''\n",
    "    master_list = list(list_of_texts)\n",
    "\n",
    "    df = pd.DataFrame(master_list, columns=['texts'])\n",
    "    return df\n",
    "\n",
    "\n",
    "def split_into_sentences(content, no_sntcs=4):\n",
    "    '''\n",
    "    This function splits the text into sentences and then groups them into desired number of sentences.\n",
    "    :param content: text to be split\n",
    "    :param no_sntcs: number of sentences to be grouped\n",
    "    :param split_overlap: if True, then the sentences will be split with overlap\n",
    "    :param no_of_tokens: number of tokens to be grouped\n",
    "    :param overlap: number of sentences to be overlapped\n",
    "    :return: list of dictionaries with grouped sentences\n",
    "    '''\n",
    "    sentences = re.split('\\.\\s([A-Z][\\w\\d]+)', content)\n",
    "    clnd_sntc = list()\n",
    "    grpd_sntc = list()\n",
    "\n",
    "    # splitting the whole text into sentences\n",
    "    for i in range(len(sentences)):\n",
    "        if i == 0:\n",
    "            # first sentence\n",
    "            clnd_sntc.append(sentences[i].strip() + '.')\n",
    "        elif (i+2 == len(sentences)):\n",
    "\n",
    "            # for last sentence = appending captured split pattern to it's sentence\n",
    "            clnd_sntc.append((sentences[i] + sentences[i+1]).strip())\n",
    "        elif ((i % 2) != 0):\n",
    "\n",
    "            # for middle sentences - appending captured split pattern to it's sentence\n",
    "            clnd_sntc.append(sentences[i] + sentences[i+1] + '.')\n",
    "        else:\n",
    "            pass\n",
    "\n",
    "    # check if number of sentences is more than the desired number of sentences for grouping\n",
    "    if len(clnd_sntc) >= no_sntcs:\n",
    "\n",
    "        # to know how many group of sentences can be formed\n",
    "        for i in range(len(clnd_sntc)//no_sntcs):\n",
    "\n",
    "            # group and append desired set of sentences\n",
    "            header = ' '.join(clnd_sntc[(i*no_sntcs):((i+1)*no_sntcs)])\n",
    "            grpd_sntc.append(header)\n",
    "\n",
    "            # check if remaining length is less than the desired number of group of sentences\n",
    "            if (((len(clnd_sntc) - ((i+1)*no_sntcs)) < no_sntcs) and ((len(clnd_sntc) - ((i+1) * no_sntcs)) != 0)):\n",
    "\n",
    "                # append remaining sentences\n",
    "                header = ' '.join(clnd_sntc[((i+1)*no_sntcs):])\n",
    "                grpd_sntc.append(header)\n",
    "            else:\n",
    "                pass\n",
    "    else:\n",
    "        # return all sentence as 1 group because total number of sentence is not up to desired number of group of sentences\n",
    "        header = ' '.join(clnd_sntc)\n",
    "        grpd_sntc.append(header)\n",
    "\n",
    "    return grpd_sntc\n",
    "\n",
    "\n",
    "\n",
    "\n",
    "async def get_filing(filing_ticker, filing_year):\n",
    "    # Generate a user agent string for Chrome\n",
    "    user_agent = generate_user_agent(navigator='chrome')\n",
    "\n",
    "    lookup_headers = {\n",
    "        \"referer\": \"https://sec-api.io\",\n",
    "        \"user-agent\": user_agent\n",
    "    }\n",
    "\n",
    "    html_without_tables = str()\n",
    "    filing_ticker = str(filing_ticker)\n",
    "    filing_year = int(filing_year)\n",
    "    file_link = str()\n",
    "    company_name = str()\n",
    "    company_ticker = str()\n",
    "    filing_id = str()\n",
    "    data = {\n",
    "            \"query\": {\"query_string\": {\n",
    "                                        \"query\": \"formType:\\\"10-K\\\" AND ticker:(\" + filing_ticker + \") AND filedAt:[\" + str(\n",
    "                                        filing_year) + \"-01-01 TO \" + str(filing_year+1) + \"-01-01] AND documentFormatFiles.type:*21*\"\n",
    "                                        }\n",
    "                    }, \"sort\": [{\n",
    "                                    \"filedAt\": {\"order\": \"desc\"}\n",
    "                                    }]}\n",
    "\n",
    "    try:\n",
    "        async with aiohttp.ClientSession() as session:\n",
    "            async with session.post(\"https://api.sec-api.io/\", headers=lookup_headers, json=data, timeout=10) as response:\n",
    "                if response.status == 200:\n",
    "                    parsed_json = await response.json()\n",
    "                    print(parsed_json)\n",
    "                    hits = parsed_json['total']['value']\n",
    "                    if hits > 0:\n",
    "                        company_name = parsed_json['filings'][0]['companyName']\n",
    "                        company_ticker = parsed_json['filings'][0]['ticker']\n",
    "                        examine_link = parsed_json['filings'][0]['linkToFilingDetails']\n",
    "                        filing_id = parsed_json['filings'][0]['id']\n",
    "                        if examine_link.find('ix?doc=/') != -1:\n",
    "                            file_link = examine_link.replace('ix?doc=/', '')\n",
    "                        else:\n",
    "                            file_link = examine_link\n",
    "                    else:\n",
    "                        print('No hits')\n",
    "                else:\n",
    "                    print(response.status)\n",
    "    except Exception as e:\n",
    "        print(e)\n",
    "\n",
    "    # getting the html content of the 10-K filing and removing any image content and table content\n",
    "    html_to_pdf_retries = 0\n",
    "    get_page_headers = {\"user-agent\": user_agent}\n",
    "\n",
    "    try:\n",
    "        async with aiohttp.ClientSession() as session:\n",
    "            print(file_link)\n",
    "            async with session.get(file_link, headers=special_header, timeout=10) as response:\n",
    "                if response.status == 200:\n",
    "                    print('Okay')\n",
    "                    html = await response.text()\n",
    "                    html_without_images = re.sub(r'<img.*?>', '', html)\n",
    "                    html_without_tables = re.sub(r'<table.*?>.*?</table>', '', html_without_images)\n",
    "                    print(response.status)\n",
    "                else:\n",
    "                    print('Not Okay')\n",
    "                    print(response.status)\n",
    "    except aiohttp.ClientError as e:\n",
    "        print(e)\n",
    "        \n",
    "    pdfkit.from_string(html_without_tables, 'output.pdf', options={\"enable-local-file-access\": \"\"})\n",
    "\n",
    "    PDF_read = extract_text('Summary.pdf')\n",
    "    e_PDF_read = PDF_read.replace('\\n\\n', ' ').replace('\\n', ' ')\n",
    "    e_PDF_read = re.sub(r'\\s+', ' ', e_PDF_read)\n",
    "\n",
    "    # grouped_sentences = split_into_sentences(concatenated_output)\n",
    "    grouped_sentences = split_into_sentences(e_PDF_read)\n",
    "    df_texts = create_df(grouped_sentences)\n",
    "\n",
    "    def create_context(content):\n",
    "        '''\n",
    "        Function to create context from the dataset.\n",
    "        '''\n",
    "        context = 'Company: ' + company_name + \\\n",
    "            ' (' + company_ticker + ')' + '\\n' + content['texts']\n",
    "        return context\n",
    "\n",
    "    # creating context using the company_name and new_text column\n",
    "    df_texts['context'] = df_texts.apply(create_context, axis=1)\n",
    "    df_texts.to_parquet('your_input_file.parquet', compression='gzip')\n",
    "\n",
    "    # creating context using the company_name and new_text column\n",
    "    print('Debug')\n",
    "\n",
    "    async def process_chunk(chunk, mymodel):\n",
    "        chunk['context'] = chunk.apply(create_context, axis=1)\n",
    "        embeddings = await asyncio.gather(*[content_embedding(row['context'], mymodel) for _, row in chunk.iterrows()])\n",
    "        chunk['embedding'] = embeddings\n",
    "        chunk['filing_id'] = filing_id\n",
    "        chunk['company_name'] = company_name\n",
    "        chunk['ticker'] = company_ticker\n",
    "        chunk['year_of_filing'] = filing_year\n",
    "        return chunk\n",
    "\n",
    "    chunksize = 1  # Adjust this value based on your available RAM\n",
    "    df_texts = pd.read_parquet('your_input_file.parquet')  # Replace with your input file\n",
    "\n",
    "    chunks = [df_texts[i:i + chunksize] for i in range(0, df_texts.shape[0], chunksize)]\n",
    "\n",
    "    processed_chunks = await asyncio.gather(*[process_chunk(chunk, mymodel) for chunk in chunks])\n",
    "\n",
    "    result = pd.concat(processed_chunks)\n",
    "    result.to_parquet('df_texts.parquet', compression='gzip')\n",
    "    print('Parsing Done')"
   ]
  },
  {
   "cell_type": "code",
   "execution_count": null,
   "metadata": {},
   "outputs": [],
   "source": [
    "await asyncio.gather(get_filing('AAPL', 2015))\n"
   ]
  },
  {
   "cell_type": "code",
   "execution_count": 94,
   "metadata": {},
   "outputs": [
    {
     "data": {
      "text/html": [
       "<div>\n",
       "<style scoped>\n",
       "    .dataframe tbody tr th:only-of-type {\n",
       "        vertical-align: middle;\n",
       "    }\n",
       "\n",
       "    .dataframe tbody tr th {\n",
       "        vertical-align: top;\n",
       "    }\n",
       "\n",
       "    .dataframe thead th {\n",
       "        text-align: right;\n",
       "    }\n",
       "</style>\n",
       "<table border=\"1\" class=\"dataframe\">\n",
       "  <thead>\n",
       "    <tr style=\"text-align: right;\">\n",
       "      <th></th>\n",
       "      <th>ticker</th>\n",
       "      <th>year_of_filing</th>\n",
       "      <th>company_name</th>\n",
       "      <th>context</th>\n",
       "      <th>embedding</th>\n",
       "      <th>filing_id</th>\n",
       "    </tr>\n",
       "  </thead>\n",
       "  <tbody>\n",
       "    <tr>\n",
       "      <th>19523</th>\n",
       "      <td>GOOG</td>\n",
       "      <td>2017</td>\n",
       "      <td>Alphabet Inc.</td>\n",
       "      <td>Company: Alphabet Inc. (GOOG)\\nManagement’s Re...</td>\n",
       "      <td>[-0.011912201, -0.105778925, -0.36491787, -0.1...</td>\n",
       "      <td>1788c52bcef0a80094ba392b7118e606</td>\n",
       "    </tr>\n",
       "    <tr>\n",
       "      <th>19524</th>\n",
       "      <td>GOOG</td>\n",
       "      <td>2017</td>\n",
       "      <td>Alphabet Inc.</td>\n",
       "      <td>Company: Alphabet Inc. (GOOG)\\nThe effectivene...</td>\n",
       "      <td>[0.029566426, -0.1531196, -0.34326175, -0.0789...</td>\n",
       "      <td>1788c52bcef0a80094ba392b7118e606</td>\n",
       "    </tr>\n",
       "    <tr>\n",
       "      <th>19525</th>\n",
       "      <td>GOOG</td>\n",
       "      <td>2017</td>\n",
       "      <td>Alphabet Inc.</td>\n",
       "      <td>Company: Alphabet Inc. (GOOG)\\nThe information...</td>\n",
       "      <td>[0.22770524, -0.22076845, -0.34347808, -0.0508...</td>\n",
       "      <td>1788c52bcef0a80094ba392b7118e606</td>\n",
       "    </tr>\n",
       "    <tr>\n",
       "      <th>19526</th>\n",
       "      <td>GOOG</td>\n",
       "      <td>2017</td>\n",
       "      <td>Alphabet Inc.</td>\n",
       "      <td>Company: Alphabet Inc. (GOOG)\\nThe information...</td>\n",
       "      <td>[0.17889473, -0.1796577, -0.32705638, -0.01151...</td>\n",
       "      <td>1788c52bcef0a80094ba392b7118e606</td>\n",
       "    </tr>\n",
       "    <tr>\n",
       "      <th>19527</th>\n",
       "      <td>GOOG</td>\n",
       "      <td>2017</td>\n",
       "      <td>Alphabet Inc.</td>\n",
       "      <td>Company: Alphabet Inc. (GOOG)\\nDate: February ...</td>\n",
       "      <td>[0.36548108, -0.16047549, -0.24902934, -0.1806...</td>\n",
       "      <td>1788c52bcef0a80094ba392b7118e606</td>\n",
       "    </tr>\n",
       "  </tbody>\n",
       "</table>\n",
       "</div>"
      ],
      "text/plain": [
       "      ticker  year_of_filing   company_name  \\\n",
       "19523   GOOG            2017  Alphabet Inc.   \n",
       "19524   GOOG            2017  Alphabet Inc.   \n",
       "19525   GOOG            2017  Alphabet Inc.   \n",
       "19526   GOOG            2017  Alphabet Inc.   \n",
       "19527   GOOG            2017  Alphabet Inc.   \n",
       "\n",
       "                                                 context  \\\n",
       "19523  Company: Alphabet Inc. (GOOG)\\nManagement’s Re...   \n",
       "19524  Company: Alphabet Inc. (GOOG)\\nThe effectivene...   \n",
       "19525  Company: Alphabet Inc. (GOOG)\\nThe information...   \n",
       "19526  Company: Alphabet Inc. (GOOG)\\nThe information...   \n",
       "19527  Company: Alphabet Inc. (GOOG)\\nDate: February ...   \n",
       "\n",
       "                                               embedding  \\\n",
       "19523  [-0.011912201, -0.105778925, -0.36491787, -0.1...   \n",
       "19524  [0.029566426, -0.1531196, -0.34326175, -0.0789...   \n",
       "19525  [0.22770524, -0.22076845, -0.34347808, -0.0508...   \n",
       "19526  [0.17889473, -0.1796577, -0.32705638, -0.01151...   \n",
       "19527  [0.36548108, -0.16047549, -0.24902934, -0.1806...   \n",
       "\n",
       "                              filing_id  \n",
       "19523  1788c52bcef0a80094ba392b7118e606  \n",
       "19524  1788c52bcef0a80094ba392b7118e606  \n",
       "19525  1788c52bcef0a80094ba392b7118e606  \n",
       "19526  1788c52bcef0a80094ba392b7118e606  \n",
       "19527  1788c52bcef0a80094ba392b7118e606  "
      ]
     },
     "execution_count": 94,
     "metadata": {},
     "output_type": "execute_result"
    }
   ],
   "source": [
    "l = pd.read_parquet('data_with_filing_id.parquet')\n",
    "# l = l[(l['ticker'] == 'GOOG')].copy()\n",
    "# search context column where '19.5' is found\n",
    "l[l['context'].str.contains(r\"19\\.5\", regex=True)]\n",
    "l.tail"
   ]
  },
  {
   "cell_type": "code",
   "execution_count": 95,
   "metadata": {},
   "outputs": [
    {
     "data": {
      "text/plain": [
       "Index(['ticker', 'year_of_filing', 'company_name', 'context', 'embedding',\n",
       "       'filing_id'],\n",
       "      dtype='object')"
      ]
     },
     "execution_count": 95,
     "metadata": {},
     "output_type": "execute_result"
    }
   ],
   "source": [
    "l.columns"
   ]
  },
  {
   "cell_type": "code",
   "execution_count": 93,
   "metadata": {},
   "outputs": [
    {
     "name": "stdout",
     "output_type": "stream",
     "text": [
      "Company: Alphabet Inc. (GOOG)\n",
      "Google other revenues The following table presents our Google other revenues (in millions) for the periods presented: Google other revenues consist primarily of revenues and sales from: 26 Our Google other revenues increased $2,926 million from 2015 to 2016 and increased as a percentage of Google segment revenues. These increases were primarily due to the growth in revenues from Google Play, primarily relating to in-app purchases (revenues which we recognize net of payout to developers), hardware sales, and Google Cloud offerings. Our Google other revenues increased $1,104 million from 2014 to 2015 and increased as a percentage of Google segment revenues. These increases were primarily due to the growth of our sales of digital content products in the Google Play store, primarily apps (revenues which we recognize net of payout to partners).\n"
     ]
    }
   ],
   "source": [
    "print(l.loc[19335, 'context'])"
   ]
  },
  {
   "cell_type": "code",
   "execution_count": 96,
   "metadata": {},
   "outputs": [
    {
     "data": {
      "text/html": [
       "<div>\n",
       "<style scoped>\n",
       "    .dataframe tbody tr th:only-of-type {\n",
       "        vertical-align: middle;\n",
       "    }\n",
       "\n",
       "    .dataframe tbody tr th {\n",
       "        vertical-align: top;\n",
       "    }\n",
       "\n",
       "    .dataframe thead th {\n",
       "        text-align: right;\n",
       "    }\n",
       "</style>\n",
       "<table border=\"1\" class=\"dataframe\">\n",
       "  <thead>\n",
       "    <tr style=\"text-align: right;\">\n",
       "      <th></th>\n",
       "      <th>ticker</th>\n",
       "      <th>year_of_filing</th>\n",
       "      <th>company_name</th>\n",
       "      <th>context</th>\n",
       "      <th>embedding</th>\n",
       "      <th>filing_id</th>\n",
       "    </tr>\n",
       "  </thead>\n",
       "  <tbody>\n",
       "    <tr>\n",
       "      <th>0</th>\n",
       "      <td>GOOG</td>\n",
       "      <td>2016</td>\n",
       "      <td>Alphabet Inc.</td>\n",
       "      <td>Company: Alphabet Inc. (GOOG)\\n10-K 1 goog10-k...</td>\n",
       "      <td>None</td>\n",
       "      <td>b5c5243ad175f6c2580d720e74e2aed1</td>\n",
       "    </tr>\n",
       "    <tr>\n",
       "      <th>1</th>\n",
       "      <td>GOOG</td>\n",
       "      <td>2016</td>\n",
       "      <td>Alphabet Inc.</td>\n",
       "      <td>Company: Alphabet Inc. (GOOG)\\nYes ý Yes ¨ No ...</td>\n",
       "      <td>None</td>\n",
       "      <td>b5c5243ad175f6c2580d720e74e2aed1</td>\n",
       "    </tr>\n",
       "    <tr>\n",
       "      <th>2</th>\n",
       "      <td>GOOG</td>\n",
       "      <td>2016</td>\n",
       "      <td>Alphabet Inc.</td>\n",
       "      <td>Company: Alphabet Inc. (GOOG)\\nGoogle Inc. Yes...</td>\n",
       "      <td>None</td>\n",
       "      <td>b5c5243ad175f6c2580d720e74e2aed1</td>\n",
       "    </tr>\n",
       "    <tr>\n",
       "      <th>3</th>\n",
       "      <td>GOOG</td>\n",
       "      <td>2016</td>\n",
       "      <td>Alphabet Inc.</td>\n",
       "      <td>Company: Alphabet Inc. (GOOG)\\nYes ý Yes ý No ...</td>\n",
       "      <td>None</td>\n",
       "      <td>b5c5243ad175f6c2580d720e74e2aed1</td>\n",
       "    </tr>\n",
       "    <tr>\n",
       "      <th>4</th>\n",
       "      <td>GOOG</td>\n",
       "      <td>2016</td>\n",
       "      <td>Alphabet Inc.</td>\n",
       "      <td>Company: Alphabet Inc. (GOOG)\\nGoogle Inc. Lar...</td>\n",
       "      <td>None</td>\n",
       "      <td>b5c5243ad175f6c2580d720e74e2aed1</td>\n",
       "    </tr>\n",
       "    <tr>\n",
       "      <th>...</th>\n",
       "      <td>...</td>\n",
       "      <td>...</td>\n",
       "      <td>...</td>\n",
       "      <td>...</td>\n",
       "      <td>...</td>\n",
       "      <td>...</td>\n",
       "    </tr>\n",
       "    <tr>\n",
       "      <th>5384</th>\n",
       "      <td>META</td>\n",
       "      <td>2022</td>\n",
       "      <td>Meta Platforms, Inc.</td>\n",
       "      <td>Company: Meta Platforms, Inc. (META)\\nWehner C...</td>\n",
       "      <td>None</td>\n",
       "      <td>3820f32b4f59a0c86e41237afd974d06</td>\n",
       "    </tr>\n",
       "    <tr>\n",
       "      <th>5385</th>\n",
       "      <td>META</td>\n",
       "      <td>2022</td>\n",
       "      <td>Meta Platforms, Inc.</td>\n",
       "      <td>Company: Meta Platforms, Inc. (META)\\nWehner D...</td>\n",
       "      <td>None</td>\n",
       "      <td>3820f32b4f59a0c86e41237afd974d06</td>\n",
       "    </tr>\n",
       "    <tr>\n",
       "      <th>5386</th>\n",
       "      <td>META</td>\n",
       "      <td>2022</td>\n",
       "      <td>Meta Platforms, Inc.</td>\n",
       "      <td>Company: Meta Platforms, Inc. (META)\\nAndreess...</td>\n",
       "      <td>None</td>\n",
       "      <td>3820f32b4f59a0c86e41237afd974d06</td>\n",
       "    </tr>\n",
       "    <tr>\n",
       "      <th>5387</th>\n",
       "      <td>META</td>\n",
       "      <td>2022</td>\n",
       "      <td>Meta Platforms, Inc.</td>\n",
       "      <td>Company: Meta Platforms, Inc. (META)\\nKimmitt ...</td>\n",
       "      <td>None</td>\n",
       "      <td>3820f32b4f59a0c86e41237afd974d06</td>\n",
       "    </tr>\n",
       "    <tr>\n",
       "      <th>5388</th>\n",
       "      <td>META</td>\n",
       "      <td>2022</td>\n",
       "      <td>Meta Platforms, Inc.</td>\n",
       "      <td>Company: Meta Platforms, Inc. (META)\\nThiel Pe...</td>\n",
       "      <td>None</td>\n",
       "      <td>3820f32b4f59a0c86e41237afd974d06</td>\n",
       "    </tr>\n",
       "  </tbody>\n",
       "</table>\n",
       "<p>5389 rows × 6 columns</p>\n",
       "</div>"
      ],
      "text/plain": [
       "     ticker  year_of_filing          company_name  \\\n",
       "0      GOOG            2016         Alphabet Inc.   \n",
       "1      GOOG            2016         Alphabet Inc.   \n",
       "2      GOOG            2016         Alphabet Inc.   \n",
       "3      GOOG            2016         Alphabet Inc.   \n",
       "4      GOOG            2016         Alphabet Inc.   \n",
       "...     ...             ...                   ...   \n",
       "5384   META            2022  Meta Platforms, Inc.   \n",
       "5385   META            2022  Meta Platforms, Inc.   \n",
       "5386   META            2022  Meta Platforms, Inc.   \n",
       "5387   META            2022  Meta Platforms, Inc.   \n",
       "5388   META            2022  Meta Platforms, Inc.   \n",
       "\n",
       "                                                context embedding  \\\n",
       "0     Company: Alphabet Inc. (GOOG)\\n10-K 1 goog10-k...      None   \n",
       "1     Company: Alphabet Inc. (GOOG)\\nYes ý Yes ¨ No ...      None   \n",
       "2     Company: Alphabet Inc. (GOOG)\\nGoogle Inc. Yes...      None   \n",
       "3     Company: Alphabet Inc. (GOOG)\\nYes ý Yes ý No ...      None   \n",
       "4     Company: Alphabet Inc. (GOOG)\\nGoogle Inc. Lar...      None   \n",
       "...                                                 ...       ...   \n",
       "5384  Company: Meta Platforms, Inc. (META)\\nWehner C...      None   \n",
       "5385  Company: Meta Platforms, Inc. (META)\\nWehner D...      None   \n",
       "5386  Company: Meta Platforms, Inc. (META)\\nAndreess...      None   \n",
       "5387  Company: Meta Platforms, Inc. (META)\\nKimmitt ...      None   \n",
       "5388  Company: Meta Platforms, Inc. (META)\\nThiel Pe...      None   \n",
       "\n",
       "                             filing_id  \n",
       "0     b5c5243ad175f6c2580d720e74e2aed1  \n",
       "1     b5c5243ad175f6c2580d720e74e2aed1  \n",
       "2     b5c5243ad175f6c2580d720e74e2aed1  \n",
       "3     b5c5243ad175f6c2580d720e74e2aed1  \n",
       "4     b5c5243ad175f6c2580d720e74e2aed1  \n",
       "...                                ...  \n",
       "5384  3820f32b4f59a0c86e41237afd974d06  \n",
       "5385  3820f32b4f59a0c86e41237afd974d06  \n",
       "5386  3820f32b4f59a0c86e41237afd974d06  \n",
       "5387  3820f32b4f59a0c86e41237afd974d06  \n",
       "5388  3820f32b4f59a0c86e41237afd974d06  \n",
       "\n",
       "[5389 rows x 6 columns]"
      ]
     },
     "execution_count": 96,
     "metadata": {},
     "output_type": "execute_result"
    }
   ],
   "source": [
    "pd.read_parquet('data.parquet')"
   ]
  },
  {
   "cell_type": "code",
   "execution_count": null,
   "metadata": {},
   "outputs": [],
   "source": []
  }
 ],
 "metadata": {
  "kernelspec": {
   "display_name": "rbc-demo-venv",
   "language": "python",
   "name": "python3"
  },
  "language_info": {
   "codemirror_mode": {
    "name": "ipython",
    "version": 3
   },
   "file_extension": ".py",
   "mimetype": "text/x-python",
   "name": "python",
   "nbconvert_exporter": "python",
   "pygments_lexer": "ipython3",
   "version": "3.9.12"
  },
  "orig_nbformat": 4
 },
 "nbformat": 4,
 "nbformat_minor": 2
}
